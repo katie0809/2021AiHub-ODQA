{
 "cells": [
  {
   "cell_type": "code",
   "execution_count": 97,
   "id": "85ee6f9f",
   "metadata": {},
   "outputs": [],
   "source": [
    "import numpy as np\n",
    "import tensorflow as tf"
   ]
  },
  {
   "cell_type": "code",
   "execution_count": 1,
   "id": "5bb32586",
   "metadata": {},
   "outputs": [
    {
     "name": "stderr",
     "output_type": "stream",
     "text": [
      "2021-11-20 09:26:54.409317: I tensorflow/stream_executor/platform/default/dso_loader.cc:48] Successfully opened dynamic library libcudart.so.10.1\n"
     ]
    }
   ],
   "source": [
    "from tqdm import tqdm\n",
    "\n",
    "import transformers\n",
    "from transformers import AutoTokenizer, AutoModelForQuestionAnswering, AutoConfig\n",
    "from transformers import BigBirdTokenizer, BigBirdForQuestionAnswering\n",
    "import torch\n",
    "\n",
    "import gc\n",
    "import pandas as pd"
   ]
  },
  {
   "cell_type": "code",
   "execution_count": null,
   "id": "2e7e6078",
   "metadata": {},
   "outputs": [],
   "source": [
    "#'/home/ubuntu/kylee/Backup/output_backup/klue-mrc/version_5/transformers',\n",
    "\n",
    "model = BigBirdForQuestionAnswering.from_pretrained(\n",
    "    '/home/ubuntu/2021AiHub-ODQA/models/korquad_2/0-2-ckpt',\n",
    ")\n",
    "tokenizer = AutoTokenizer.from_pretrained(\n",
    "    '/home/ubuntu/2021AiHub-ODQA/models/korquad_2/0-2-ckpt', \n",
    "    use_fast=False\n",
    ")"
   ]
  },
  {
   "cell_type": "code",
   "execution_count": 39,
   "id": "1ed01f33",
   "metadata": {},
   "outputs": [
    {
     "data": {
      "text/html": [
       "<div>\n",
       "<style scoped>\n",
       "    .dataframe tbody tr th:only-of-type {\n",
       "        vertical-align: middle;\n",
       "    }\n",
       "\n",
       "    .dataframe tbody tr th {\n",
       "        vertical-align: top;\n",
       "    }\n",
       "\n",
       "    .dataframe thead th {\n",
       "        text-align: right;\n",
       "    }\n",
       "</style>\n",
       "<table border=\"1\" class=\"dataframe\">\n",
       "  <thead>\n",
       "    <tr style=\"text-align: right;\">\n",
       "      <th></th>\n",
       "      <th>title</th>\n",
       "      <th>text</th>\n",
       "      <th>question</th>\n",
       "      <th>answer</th>\n",
       "      <th>answer_start</th>\n",
       "      <th>answer_end</th>\n",
       "    </tr>\n",
       "  </thead>\n",
       "  <tbody>\n",
       "    <tr>\n",
       "      <th>0</th>\n",
       "      <td>현대 니트패션에 나타난 상.하위문화의 혼합특성</td>\n",
       "      <td>스타일이 연출되었는데 상?하위의 개념에서도 전통적인 개념의 경계를 무너뜨리는 혼합...</td>\n",
       "      <td>상류층의 의상과 대중들의 의상의 경계가 확실했던 대립관계의 경계가 해체되기 시작한 ...</td>\n",
       "      <td>1960년대의 영 패션이 등장</td>\n",
       "      <td>188</td>\n",
       "      <td>204</td>\n",
       "    </tr>\n",
       "    <tr>\n",
       "      <th>1</th>\n",
       "      <td>이공계열 학생들의 탐구능력 향상과 자기주도적 학습을 돕는 학생연구프로그램의 운영 성...</td>\n",
       "      <td>설문 조사와 심층 인터뷰, 평가회 등을 통하여 학생연구프로그램의 참여를 통하여 습...</td>\n",
       "      <td>자기주도 학습이란?</td>\n",
       "      <td>학습자가 주도권을 가지고, 타인의 도움을 받아서, 혹은 그러한 도움 없이, 자신의 ...</td>\n",
       "      <td>241</td>\n",
       "      <td>378</td>\n",
       "    </tr>\n",
       "    <tr>\n",
       "      <th>2</th>\n",
       "      <td>패션제품 광고의 색채 배색에 대한 광고 회상 연구</td>\n",
       "      <td>광고에서의 색채연구는 컬러마케팅의 관점에서 색상이 브랜드 이미지를 나타내는 도구로...</td>\n",
       "      <td>단색 배색은 무엇인가?</td>\n",
       "      <td>한 가지 색의 조화로 한 가지 색을 다양한 명도와 채도로 조화시킨 배색</td>\n",
       "      <td>180</td>\n",
       "      <td>219</td>\n",
       "    </tr>\n",
       "    <tr>\n",
       "      <th>3</th>\n",
       "      <td>ISO 15016 해석법에 의한 사고선박 예인 시 파랑 중 부가저항 추정 프로그램 개발</td>\n",
       "      <td>appropriate to use for predicting the resista...</td>\n",
       "      <td>사고선박의 저항은 어떻게 계산하는가?</td>\n",
       "      <td>사고선박 자체의 정수중 선체 저항에 각종 외력에 대한 부가저항을 더하여 계산</td>\n",
       "      <td>254</td>\n",
       "      <td>296</td>\n",
       "    </tr>\n",
       "    <tr>\n",
       "      <th>4</th>\n",
       "      <td>손 관련 인체측정자료를 이용한 한국인의 손 모양 유형 분류 및 특성 분석</td>\n",
       "      <td>장갑과 기기를 조작하는데 필요한 조종 장치를 들 수 있다. 치수 및 형태가 적합한 ...</td>\n",
       "      <td>치수 및 형태가 적합한 장갑의 착용은 보호 장구로서의 역할을 하지만 부적절하게 설계...</td>\n",
       "      <td>손의 감각 및 악력이 저하되는 문제점</td>\n",
       "      <td>132</td>\n",
       "      <td>152</td>\n",
       "    </tr>\n",
       "    <tr>\n",
       "      <th>...</th>\n",
       "      <td>...</td>\n",
       "      <td>...</td>\n",
       "      <td>...</td>\n",
       "      <td>...</td>\n",
       "      <td>...</td>\n",
       "      <td>...</td>\n",
       "    </tr>\n",
       "    <tr>\n",
       "      <th>9995</th>\n",
       "      <td>대안적 인지 이론으로서 '자원 기반 관점'에 대한 이론적 고찰과 시험 적용</td>\n",
       "      <td>것은 대체되어야 할 학습의 장애물이 아니라, 교사가 수업 중에 과학적인 아이디어를 ...</td>\n",
       "      <td>RBV에 따르면 오개념은 어떤 기반이 되는가?</td>\n",
       "      <td>대체되어야 할 학습의 장애물이 아니라, 교사가 수업 중에 과학적인 아이디어를 전개하...</td>\n",
       "      <td>3</td>\n",
       "      <td>72</td>\n",
       "    </tr>\n",
       "    <tr>\n",
       "      <th>9996</th>\n",
       "      <td>실제 도로 주행과정에서 타이어와 도로의 마찰에 의해서 발생하는 미세입자의 특성연구</td>\n",
       "      <td>μg/m3까지 증가하게 된다. 이는 차량 속도의 증가에 따라서 마모되는 타이어 입...</td>\n",
       "      <td>차량 속도가 증가함에 따라서 2.5 μm 부근에서 중량 농도값이 피크값을 나타낸 이유는?</td>\n",
       "      <td>차량 속도의 증가에 따라서 마모되는 타이어 입자가 증가하고 도로면에 존재하는 미세먼...</td>\n",
       "      <td>21</td>\n",
       "      <td>105</td>\n",
       "    </tr>\n",
       "    <tr>\n",
       "      <th>9997</th>\n",
       "      <td>족양명위경 하지부 유주에 관한 고찰 - &amp;#12302;중국침구경락통감&amp;#12303;...</td>\n",
       "      <td>재 中趾가 아닌 足二趾 말단外側에서 취혈3)하고 있어 족양명위경의 경로와 정확하게 ...</td>\n",
       "      <td>中國鍼灸經絡通鑑이란 무엇인가?</td>\n",
       "      <td>중국침구학회 경락연구회와 중국중의연구원 침구연구소를 중심으로 鄧良月, 黃龍祥 등 중...</td>\n",
       "      <td>209</td>\n",
       "      <td>426</td>\n",
       "    </tr>\n",
       "    <tr>\n",
       "      <th>9998</th>\n",
       "      <td>지반굴착에 따른 지반 안정성 평가 시 지하시설물이 지하수흐름에 미치는 영향 분석</td>\n",
       "      <td>사항인 지하수유동 특성은 굴착구간 주변의 존재하는 지하시설물의 규모(size), 이...</td>\n",
       "      <td>지반굴착에 따른 지반 안정성 평가 시 고려사항인 지하수유동 특성은 어떤 영향을 받나요?</td>\n",
       "      <td>굴착구간 주변의 존재하는 지하시설물의 규모(size), 이격거리(separation...</td>\n",
       "      <td>14</td>\n",
       "      <td>130</td>\n",
       "    </tr>\n",
       "    <tr>\n",
       "      <th>9999</th>\n",
       "      <td>미혼 성인의 자녀양육신념 양상과 자녀에 대한 가치 및 부모 부양의무감간의 관계</td>\n",
       "      <td>자녀에 대한 가치를 경제적, 사회적, 심리적 가치의 세 가지 유형으로 설명하였다....</td>\n",
       "      <td>VOC 연구에서는 자녀에 대한 가치를 경제적, 사회적, 심리적 세 가지 유형으로 ...</td>\n",
       "      <td>첫째, 경제적 가치는 아이가 어렸을 때와 성인이 되었을때 자녀에게서 기대되는 물질적...</td>\n",
       "      <td>47</td>\n",
       "      <td>336</td>\n",
       "    </tr>\n",
       "  </tbody>\n",
       "</table>\n",
       "<p>10000 rows × 6 columns</p>\n",
       "</div>"
      ],
      "text/plain": [
       "                                                  title  \\\n",
       "0                             현대 니트패션에 나타난 상.하위문화의 혼합특성   \n",
       "1     이공계열 학생들의 탐구능력 향상과 자기주도적 학습을 돕는 학생연구프로그램의 운영 성...   \n",
       "2                           패션제품 광고의 색채 배색에 대한 광고 회상 연구   \n",
       "3      ISO 15016 해석법에 의한 사고선박 예인 시 파랑 중 부가저항 추정 프로그램 개발   \n",
       "4              손 관련 인체측정자료를 이용한 한국인의 손 모양 유형 분류 및 특성 분석   \n",
       "...                                                 ...   \n",
       "9995          대안적 인지 이론으로서 '자원 기반 관점'에 대한 이론적 고찰과 시험 적용   \n",
       "9996      실제 도로 주행과정에서 타이어와 도로의 마찰에 의해서 발생하는 미세입자의 특성연구   \n",
       "9997  족양명위경 하지부 유주에 관한 고찰 - &#12302;중국침구경락통감&#12303;...   \n",
       "9998       지반굴착에 따른 지반 안정성 평가 시 지하시설물이 지하수흐름에 미치는 영향 분석   \n",
       "9999        미혼 성인의 자녀양육신념 양상과 자녀에 대한 가치 및 부모 부양의무감간의 관계   \n",
       "\n",
       "                                                   text  \\\n",
       "0      스타일이 연출되었는데 상?하위의 개념에서도 전통적인 개념의 경계를 무너뜨리는 혼합...   \n",
       "1      설문 조사와 심층 인터뷰, 평가회 등을 통하여 학생연구프로그램의 참여를 통하여 습...   \n",
       "2      광고에서의 색채연구는 컬러마케팅의 관점에서 색상이 브랜드 이미지를 나타내는 도구로...   \n",
       "3      appropriate to use for predicting the resista...   \n",
       "4     장갑과 기기를 조작하는데 필요한 조종 장치를 들 수 있다. 치수 및 형태가 적합한 ...   \n",
       "...                                                 ...   \n",
       "9995  것은 대체되어야 할 학습의 장애물이 아니라, 교사가 수업 중에 과학적인 아이디어를 ...   \n",
       "9996   μg/m3까지 증가하게 된다. 이는 차량 속도의 증가에 따라서 마모되는 타이어 입...   \n",
       "9997  재 中趾가 아닌 足二趾 말단外側에서 취혈3)하고 있어 족양명위경의 경로와 정확하게 ...   \n",
       "9998  사항인 지하수유동 특성은 굴착구간 주변의 존재하는 지하시설물의 규모(size), 이...   \n",
       "9999   자녀에 대한 가치를 경제적, 사회적, 심리적 가치의 세 가지 유형으로 설명하였다....   \n",
       "\n",
       "                                               question  \\\n",
       "0     상류층의 의상과 대중들의 의상의 경계가 확실했던 대립관계의 경계가 해체되기 시작한 ...   \n",
       "1                                            자기주도 학습이란?   \n",
       "2                                          단색 배색은 무엇인가?   \n",
       "3                                  사고선박의 저항은 어떻게 계산하는가?   \n",
       "4     치수 및 형태가 적합한 장갑의 착용은 보호 장구로서의 역할을 하지만 부적절하게 설계...   \n",
       "...                                                 ...   \n",
       "9995                          RBV에 따르면 오개념은 어떤 기반이 되는가?   \n",
       "9996  차량 속도가 증가함에 따라서 2.5 μm 부근에서 중량 농도값이 피크값을 나타낸 이유는?   \n",
       "9997                                   中國鍼灸經絡通鑑이란 무엇인가?   \n",
       "9998   지반굴착에 따른 지반 안정성 평가 시 고려사항인 지하수유동 특성은 어떤 영향을 받나요?   \n",
       "9999   VOC 연구에서는 자녀에 대한 가치를 경제적, 사회적, 심리적 세 가지 유형으로 ...   \n",
       "\n",
       "                                                 answer  answer_start  \\\n",
       "0                                      1960년대의 영 패션이 등장           188   \n",
       "1     학습자가 주도권을 가지고, 타인의 도움을 받아서, 혹은 그러한 도움 없이, 자신의 ...           241   \n",
       "2               한 가지 색의 조화로 한 가지 색을 다양한 명도와 채도로 조화시킨 배색           180   \n",
       "3            사고선박 자체의 정수중 선체 저항에 각종 외력에 대한 부가저항을 더하여 계산           254   \n",
       "4                                  손의 감각 및 악력이 저하되는 문제점           132   \n",
       "...                                                 ...           ...   \n",
       "9995  대체되어야 할 학습의 장애물이 아니라, 교사가 수업 중에 과학적인 아이디어를 전개하...             3   \n",
       "9996  차량 속도의 증가에 따라서 마모되는 타이어 입자가 증가하고 도로면에 존재하는 미세먼...            21   \n",
       "9997  중국침구학회 경락연구회와 중국중의연구원 침구연구소를 중심으로 鄧良月, 黃龍祥 등 중...           209   \n",
       "9998  굴착구간 주변의 존재하는 지하시설물의 규모(size), 이격거리(separation...            14   \n",
       "9999  첫째, 경제적 가치는 아이가 어렸을 때와 성인이 되었을때 자녀에게서 기대되는 물질적...            47   \n",
       "\n",
       "      answer_end  \n",
       "0            204  \n",
       "1            378  \n",
       "2            219  \n",
       "3            296  \n",
       "4            152  \n",
       "...          ...  \n",
       "9995          72  \n",
       "9996         105  \n",
       "9997         426  \n",
       "9998         130  \n",
       "9999         336  \n",
       "\n",
       "[10000 rows x 6 columns]"
      ]
     },
     "execution_count": 39,
     "metadata": {},
     "output_type": "execute_result"
    }
   ],
   "source": [
    "x_valid = pd.read_csv('./models/x_valid_light.csv')\n",
    "x_valid"
   ]
  },
  {
   "cell_type": "code",
   "execution_count": 71,
   "id": "aff8893b",
   "metadata": {},
   "outputs": [
    {
     "data": {
      "text/plain": [
       "['불투수성포장의 부정적 영향은?',\n",
       " '무는 인체에서 어떤 작용을 하는가?',\n",
       " '이산화탄소 지중저장이란?',\n",
       " '부모역할의 주요 하위개념은 무엇인가?',\n",
       " '조직 내에서 이직의 증가는 어떤 영향을 미치는가?']"
      ]
     },
     "metadata": {},
     "output_type": "display_data"
    },
    {
     "data": {
      "text/plain": [
       "9985    심광장의 경우 자연순환기능이 상실되면서 지표면 온도가 상승되는 원인을 제공하고 있으...\n",
       "9986    에서 쉽게 섭취할 수 있는 재료인 당근은 비타민A의 전구체로 카로틴을 많이 함유하고...\n",
       "9987    라이트;고온.고압;지화학 반응;용해; carbon dioxide;zeolite;hi...\n",
       "9988     현대사회는 진로와 직업, 지역사회활동, 정치적 참여, 예술, 취미, 스포츠 등과 ...\n",
       "9989    ehavior;Turnover intention; 본문 최근 의료 환경의 급속한 변...\n",
       "Name: text, dtype: object"
      ]
     },
     "metadata": {},
     "output_type": "display_data"
    }
   ],
   "source": [
    "sample = x_valid[9985:9990]\n",
    "display(list(sample.question), sample.text)"
   ]
  },
  {
   "cell_type": "code",
   "execution_count": 72,
   "id": "9828df38",
   "metadata": {},
   "outputs": [],
   "source": [
    "encodings = tokenizer(list(sample.question)[0], \n",
    "                      list(sample.text)[0],\n",
    "                      return_tensors=\"pt\",\n",
    "                      padding=True, truncation=True)"
   ]
  },
  {
   "cell_type": "code",
   "execution_count": 73,
   "id": "11b9bc5c",
   "metadata": {},
   "outputs": [
    {
     "name": "stderr",
     "output_type": "stream",
     "text": [
      "Attention type 'block_sparse' is not possible if sequence_length: 635 <= num global tokens: 2 * config.block_size + min. num sliding tokens: 3 * config.block_size + config.num_random_blocks * config.block_size + additional buffer: config.num_random_blocks * config.block_size = 704 with config.block_size = 64, config.num_random_blocks = 3.Changing attention type to 'original_full'...\n"
     ]
    },
    {
     "name": "stdout",
     "output_type": "stream",
     "text": [
      "type  <class 'transformers.tokenization_utils_base.BatchEncoding'>\n",
      "{'input_ids': tensor([[    2,  3311, 23591,  4602,  4651,  4794,  4561,  7733,  4809,  7136,\n",
      "          4839,   535,     3,  3512, 27680,  4561,  6822,  7124, 17669, 22250,\n",
      "          4544, 10090,  5189,  4685,  4593,  9731,  4685,  9937,  4771,  7357,\n",
      "          5189,  4741,  7703,  4604,  7085, 23953,  3738,  7022,  6929, 11358,\n",
      "          4561,  6936,  4584,  4741,  7010,  4837,  9326, 10707,  7131, 23953,\n",
      "          3738,  4742,   518,  3729,  4741,  9326,  9627,  7412,  5189,  4583,\n",
      "          7308,  3693,  4521,  4935,  4544,  2554,  4625,  3738,  5243, 17391,\n",
      "          4561,  8514,  9304,  4756,  6834,  7124, 17669, 22250,  4544, 12059,\n",
      "          5189,  4685,  4593,  9731,  4685, 11159, 26573,  4584,  7136,  4604,\n",
      "         14816,  4741,  2579,  9627,  7690,  4742,   518,  6953,   516,  3311,\n",
      "         23591,  4602,  4651,  4794,  4839,  9731,  4685, 11159, 26573,  3375,\n",
      "          4830,  6799,  4744,  8510,  4809,  7214,  4604, 12059,  4568,  4701,\n",
      "          4741,  6918,  4874, 10592, 10626,  9287,  4742,  4552,  4602,  7743,\n",
      "          4561,  7703,  9627,  7887, 23953,  3738,  7022,  7124,  4913,  4521,\n",
      "          4621,  4742,  3311, 23591,  4602,  4651, 18013,  4809,  4544,  2796,\n",
      "          4839,  6936, 21864,  9627, 10392,  8510,  4809,  4588,  4704,  4602,\n",
      "          4549,   513,  3722,  9146,  5189,  4625,  3738,  4742,   518, 27868,\n",
      "         26279, 14443,  2776,  3311, 23591,  4602,  9547, 27680,  4561,  6822,\n",
      "          4630,  7412,  2936,  4521,  6996,  5161,  4544,  6809,  6900,  7124,\n",
      "         17669,  7214,  4604, 10090, 10626,  9566,  4642,  5233,  4603,  4874,\n",
      "         12735,  4568,  4701,  4741,  7272,  9627, 11550,  5189,  4625,  3738,\n",
      "          7022,   516, 18366,  5045,  7149, 10707,  7063,  4644,  4561,  7254,\n",
      "          4604,  8534, 23953,  3738,  4674,  2656,  4584,  7559,  7288,  7521,\n",
      "          8830,  4544, 11611,  4837,  6895, 32409,   518,  7010,  4837,  7223,\n",
      "         31318,  6936,  4747,  4644,  4561, 19092,  4584,  6800,  7079,  4839,\n",
      "          9105,  8648,  4625,  3738,  4741,  9180,  4544,  4990,   516,   561,\n",
      "          8735,   512,  8109,   513,  3722,  6936,  4561,  8510,  4809,  4588,\n",
      "          4704, 15386,  6936,  4747,  3393,  4561,  3836,  4676, 15893,  5189,\n",
      "          4674,  3738, 14919,  6900,  6850,  7249,  4561,  7705,  4874,  6810,\n",
      "          7904,  7420,  5189, 17105,  7225,  4239,  4742,   518,  6936,  4561,\n",
      "          8510,  4809,  4588,  4704,  4602,  4584,  6800,  6820,  4741,  7019,\n",
      "         14908,  8261,  5161,  7394, 31318,  7311,  9287,  4742,  4552,  4602,\n",
      "          4887,  4806,   512, 22946,  4716,   513,  6786,  7520,  5189,  4674,\n",
      "         31600, 20813,  4569,   512,   557,  4537,  4596,  7024,   538, 15466,\n",
      "          4565, 14346,  9552,  8576, 25237, 15972,   513,  2542,  7558,  5189,\n",
      "          4685,  4593,  7798,  4603,  5189,  5070,  4742,   518, 10933, 31318,\n",
      "          4630,  7694,  5161,  6936,  4913,  4521,  4561,  8510,  4809,  7214,\n",
      "          6870,  4771, 11814, 31318,  6933,  5189,  5070,  4625,  6877,  4618,\n",
      "          8404,  8622, 23179,  4670,  4561,  7860,  5161,  9331,  4630,  4568,\n",
      "          7206,  4602,  6970,  4521,  5000,  6870,  3240,  7802,  5161,  6936,\n",
      "          4962,  4917,  4527, 11060,  4602,  4676,  6890,  5045,  6870,  4771,\n",
      "          6933,  5045,  4719,  3738,  4742,   518,  6938,  8404,  8622, 23179,\n",
      "          4670,  4604,  7267, 10626,  6936,  4962,  4917,  4809,  4588,  4704,\n",
      "          4602,  4521,  5000,  4584,  7452,  6941,  4837,  6870,  4630, 17035,\n",
      "          6933,  3815,  4584,  3738,  4742,   518, 27378,  3293,  6870, 31318,\n",
      "          4741, 27868, 26279, 18366,  5045,  9326,  4561,  8510,  4809,  7214,\n",
      "          4604,  7828,  4225,  3468,  3738, 21227,  7697,  8622,  4676, 19401,\n",
      "          4874, 10070, 10626,  8510,  4809,  4588,  4704,  4602,  7420,  4874,\n",
      "          7980,  9566,  4962,  4917,  4669,  4646, 31995,  9627,  3754,  5238,\n",
      "          4962,  4568,  4701,  4583,  6878,  7521,  4604,  7486, 23953,  4528,\n",
      "          6787,   518,  6953, 11646,  7420,  4561,  7521,  9627, 11814, 22442,\n",
      "          4621,  4704,  4887,  4807,  4601,  4604,  7195, 10626, 12966, 13243,\n",
      "          9627,  7047,  4681,  4741,  7012,  4604,  7784, 10626,  4710,  6870,\n",
      "          4771,  6814,  8447,  4771,  5222,  4681, 21227,  4222,  4741,  7521,\n",
      "          4604,  7486, 23953,  4528,  6787,   518,  3293,  6870,  4561,  7272,\n",
      "          4809,  8554,  4741, 27868, 26279,  9773,  4549,   517,   521,  5371,\n",
      "          4521,  4756, 11335,  4605,   517,   526,  5371,  4521,   512,   542,\n",
      "          8617,   518,   521,   513,  3621,  7248,  4837,  9566,  4521, 22300,\n",
      "          7049,  4561, 27049, 27680,  4604,  6950,  9627,  9070,  3738,  4742,\n",
      "           518,  3594,  6884,   516, 10888,  4548,   581,  4738,  7044,  4561,\n",
      "          3311, 23591,  4602,  9547,  9627, 11424,  9326,  9627,  7591,  5161,\n",
      "          4630,  4584,  7412,  5189,  4674,  6996,  5161,  4544,  6809,  6900,\n",
      "          4584,  4741,  7124, 17669,  7214,  4604, 10090, 10626,  7425, 14443,\n",
      "          4874,  7267,  4837,  9566,     3]]), 'token_type_ids': tensor([[0, 0, 0, 0, 0, 0, 0, 0, 0, 0, 0, 0, 0, 1, 1, 1, 1, 1, 1, 1, 1, 1, 1, 1,\n",
      "         1, 1, 1, 1, 1, 1, 1, 1, 1, 1, 1, 1, 1, 1, 1, 1, 1, 1, 1, 1, 1, 1, 1, 1,\n",
      "         1, 1, 1, 1, 1, 1, 1, 1, 1, 1, 1, 1, 1, 1, 1, 1, 1, 1, 1, 1, 1, 1, 1, 1,\n",
      "         1, 1, 1, 1, 1, 1, 1, 1, 1, 1, 1, 1, 1, 1, 1, 1, 1, 1, 1, 1, 1, 1, 1, 1,\n",
      "         1, 1, 1, 1, 1, 1, 1, 1, 1, 1, 1, 1, 1, 1, 1, 1, 1, 1, 1, 1, 1, 1, 1, 1,\n",
      "         1, 1, 1, 1, 1, 1, 1, 1, 1, 1, 1, 1, 1, 1, 1, 1, 1, 1, 1, 1, 1, 1, 1, 1,\n",
      "         1, 1, 1, 1, 1, 1, 1, 1, 1, 1, 1, 1, 1, 1, 1, 1, 1, 1, 1, 1, 1, 1, 1, 1,\n",
      "         1, 1, 1, 1, 1, 1, 1, 1, 1, 1, 1, 1, 1, 1, 1, 1, 1, 1, 1, 1, 1, 1, 1, 1,\n",
      "         1, 1, 1, 1, 1, 1, 1, 1, 1, 1, 1, 1, 1, 1, 1, 1, 1, 1, 1, 1, 1, 1, 1, 1,\n",
      "         1, 1, 1, 1, 1, 1, 1, 1, 1, 1, 1, 1, 1, 1, 1, 1, 1, 1, 1, 1, 1, 1, 1, 1,\n",
      "         1, 1, 1, 1, 1, 1, 1, 1, 1, 1, 1, 1, 1, 1, 1, 1, 1, 1, 1, 1, 1, 1, 1, 1,\n",
      "         1, 1, 1, 1, 1, 1, 1, 1, 1, 1, 1, 1, 1, 1, 1, 1, 1, 1, 1, 1, 1, 1, 1, 1,\n",
      "         1, 1, 1, 1, 1, 1, 1, 1, 1, 1, 1, 1, 1, 1, 1, 1, 1, 1, 1, 1, 1, 1, 1, 1,\n",
      "         1, 1, 1, 1, 1, 1, 1, 1, 1, 1, 1, 1, 1, 1, 1, 1, 1, 1, 1, 1, 1, 1, 1, 1,\n",
      "         1, 1, 1, 1, 1, 1, 1, 1, 1, 1, 1, 1, 1, 1, 1, 1, 1, 1, 1, 1, 1, 1, 1, 1,\n",
      "         1, 1, 1, 1, 1, 1, 1, 1, 1, 1, 1, 1, 1, 1, 1, 1, 1, 1, 1, 1, 1, 1, 1, 1,\n",
      "         1, 1, 1, 1, 1, 1, 1, 1, 1, 1, 1, 1, 1, 1, 1, 1, 1, 1, 1, 1, 1, 1, 1, 1,\n",
      "         1, 1, 1, 1, 1, 1, 1, 1, 1, 1, 1, 1, 1, 1, 1, 1, 1, 1, 1, 1, 1, 1, 1, 1,\n",
      "         1, 1, 1, 1, 1, 1, 1, 1, 1, 1, 1, 1, 1, 1, 1, 1, 1, 1, 1, 1, 1, 1, 1, 1,\n",
      "         1, 1, 1, 1, 1, 1, 1, 1, 1, 1, 1, 1, 1, 1, 1, 1, 1, 1, 1, 1, 1, 1, 1, 1,\n",
      "         1, 1, 1, 1, 1, 1, 1, 1, 1, 1, 1, 1, 1, 1, 1, 1, 1, 1, 1, 1, 1, 1, 1, 1,\n",
      "         1, 1, 1, 1, 1, 1, 1, 1, 1, 1, 1, 1, 1, 1, 1, 1, 1, 1, 1, 1, 1, 1, 1, 1,\n",
      "         1, 1, 1, 1, 1, 1, 1, 1, 1, 1, 1, 1, 1, 1, 1, 1, 1, 1, 1, 1, 1, 1, 1, 1,\n",
      "         1, 1, 1, 1, 1, 1, 1, 1, 1, 1, 1, 1, 1, 1, 1, 1, 1, 1, 1, 1, 1, 1, 1, 1,\n",
      "         1, 1, 1, 1, 1, 1, 1, 1, 1, 1, 1, 1, 1, 1, 1, 1, 1, 1, 1, 1, 1, 1, 1, 1,\n",
      "         1, 1, 1, 1, 1, 1, 1, 1, 1, 1, 1, 1, 1, 1, 1, 1, 1, 1, 1, 1, 1, 1, 1, 1,\n",
      "         1, 1, 1, 1, 1, 1, 1, 1, 1, 1, 1]]), 'attention_mask': tensor([[1, 1, 1, 1, 1, 1, 1, 1, 1, 1, 1, 1, 1, 1, 1, 1, 1, 1, 1, 1, 1, 1, 1, 1,\n",
      "         1, 1, 1, 1, 1, 1, 1, 1, 1, 1, 1, 1, 1, 1, 1, 1, 1, 1, 1, 1, 1, 1, 1, 1,\n",
      "         1, 1, 1, 1, 1, 1, 1, 1, 1, 1, 1, 1, 1, 1, 1, 1, 1, 1, 1, 1, 1, 1, 1, 1,\n",
      "         1, 1, 1, 1, 1, 1, 1, 1, 1, 1, 1, 1, 1, 1, 1, 1, 1, 1, 1, 1, 1, 1, 1, 1,\n",
      "         1, 1, 1, 1, 1, 1, 1, 1, 1, 1, 1, 1, 1, 1, 1, 1, 1, 1, 1, 1, 1, 1, 1, 1,\n",
      "         1, 1, 1, 1, 1, 1, 1, 1, 1, 1, 1, 1, 1, 1, 1, 1, 1, 1, 1, 1, 1, 1, 1, 1,\n",
      "         1, 1, 1, 1, 1, 1, 1, 1, 1, 1, 1, 1, 1, 1, 1, 1, 1, 1, 1, 1, 1, 1, 1, 1,\n",
      "         1, 1, 1, 1, 1, 1, 1, 1, 1, 1, 1, 1, 1, 1, 1, 1, 1, 1, 1, 1, 1, 1, 1, 1,\n",
      "         1, 1, 1, 1, 1, 1, 1, 1, 1, 1, 1, 1, 1, 1, 1, 1, 1, 1, 1, 1, 1, 1, 1, 1,\n",
      "         1, 1, 1, 1, 1, 1, 1, 1, 1, 1, 1, 1, 1, 1, 1, 1, 1, 1, 1, 1, 1, 1, 1, 1,\n",
      "         1, 1, 1, 1, 1, 1, 1, 1, 1, 1, 1, 1, 1, 1, 1, 1, 1, 1, 1, 1, 1, 1, 1, 1,\n",
      "         1, 1, 1, 1, 1, 1, 1, 1, 1, 1, 1, 1, 1, 1, 1, 1, 1, 1, 1, 1, 1, 1, 1, 1,\n",
      "         1, 1, 1, 1, 1, 1, 1, 1, 1, 1, 1, 1, 1, 1, 1, 1, 1, 1, 1, 1, 1, 1, 1, 1,\n",
      "         1, 1, 1, 1, 1, 1, 1, 1, 1, 1, 1, 1, 1, 1, 1, 1, 1, 1, 1, 1, 1, 1, 1, 1,\n",
      "         1, 1, 1, 1, 1, 1, 1, 1, 1, 1, 1, 1, 1, 1, 1, 1, 1, 1, 1, 1, 1, 1, 1, 1,\n",
      "         1, 1, 1, 1, 1, 1, 1, 1, 1, 1, 1, 1, 1, 1, 1, 1, 1, 1, 1, 1, 1, 1, 1, 1,\n",
      "         1, 1, 1, 1, 1, 1, 1, 1, 1, 1, 1, 1, 1, 1, 1, 1, 1, 1, 1, 1, 1, 1, 1, 1,\n",
      "         1, 1, 1, 1, 1, 1, 1, 1, 1, 1, 1, 1, 1, 1, 1, 1, 1, 1, 1, 1, 1, 1, 1, 1,\n",
      "         1, 1, 1, 1, 1, 1, 1, 1, 1, 1, 1, 1, 1, 1, 1, 1, 1, 1, 1, 1, 1, 1, 1, 1,\n",
      "         1, 1, 1, 1, 1, 1, 1, 1, 1, 1, 1, 1, 1, 1, 1, 1, 1, 1, 1, 1, 1, 1, 1, 1,\n",
      "         1, 1, 1, 1, 1, 1, 1, 1, 1, 1, 1, 1, 1, 1, 1, 1, 1, 1, 1, 1, 1, 1, 1, 1,\n",
      "         1, 1, 1, 1, 1, 1, 1, 1, 1, 1, 1, 1, 1, 1, 1, 1, 1, 1, 1, 1, 1, 1, 1, 1,\n",
      "         1, 1, 1, 1, 1, 1, 1, 1, 1, 1, 1, 1, 1, 1, 1, 1, 1, 1, 1, 1, 1, 1, 1, 1,\n",
      "         1, 1, 1, 1, 1, 1, 1, 1, 1, 1, 1, 1, 1, 1, 1, 1, 1, 1, 1, 1, 1, 1, 1, 1,\n",
      "         1, 1, 1, 1, 1, 1, 1, 1, 1, 1, 1, 1, 1, 1, 1, 1, 1, 1, 1, 1, 1, 1, 1, 1,\n",
      "         1, 1, 1, 1, 1, 1, 1, 1, 1, 1, 1, 1, 1, 1, 1, 1, 1, 1, 1, 1, 1, 1, 1, 1,\n",
      "         1, 1, 1, 1, 1, 1, 1, 1, 1, 1, 1]])}\n"
     ]
    }
   ],
   "source": [
    "# input 을 cuda로 저장\n",
    "print(\"type \",type(encodings))\n",
    "print(encodings)\n",
    "\n",
    "# input_ids = encodings[\"input_ids\"].to(self.device).cpu()\n",
    "# token_type_ids = encodings[\"token_type_ids\"].to(self.device).cpu()\n",
    "# attention_mask = encodings[\"attention_mask\"].to(self.device).cpu()\n",
    "input_ids = encodings[\"input_ids\"]\n",
    "token_type_ids = encodings[\"token_type_ids\"]\n",
    "attention_mask = encodings[\"attention_mask\"]\n",
    "# input_ids = encodings[\"input_ids\"]\n",
    "# token_type_ids = encodings[\"token_type_ids\"]\n",
    "# attention_mask = encodings[\"attention_mask\"]\n",
    "\n",
    "outputs = model(input_ids=input_ids,attention_mask=attention_mask)"
   ]
  },
  {
   "cell_type": "code",
   "execution_count": 74,
   "id": "f63c65ed",
   "metadata": {},
   "outputs": [],
   "source": [
    "start_logits, end_logits = outputs.start_logits, outputs.end_logits\n",
    "token_start_index, token_end_index = start_logits.argmax(dim=-1), end_logits.argmax(dim=-1)\n",
    "pred = tokenizer.convert_tokens_to_string(tokenizer.convert_ids_to_tokens(encodings[\"input_ids\"][0][token_start_index: token_end_index + 1]))\n",
    "pred = pred.replace(\"#\",\"\")"
   ]
  },
  {
   "cell_type": "code",
   "execution_count": 76,
   "id": "90212f7f",
   "metadata": {},
   "outputs": [
    {
     "data": {
      "text/plain": [
       "tensor([0])"
      ]
     },
     "execution_count": 76,
     "metadata": {},
     "output_type": "execute_result"
    }
   ],
   "source": [
    "token_end_index"
   ]
  },
  {
   "cell_type": "code",
   "execution_count": 34,
   "id": "4bcd8494",
   "metadata": {},
   "outputs": [
    {
     "data": {
      "text/plain": [
       "'심광장의 경우 자연순환기능이 상실되면서 지표면 온도가 상승되는 원인을 제공하고 있으며 국내 대다수의 도시에는 이러한 광장들이 존재하고 있다. 이는 광장으로 조성되기 이전 원지반이 갖고 있던 녹지의 면적 축소와 함께 자연순환기능이 저하되면서 지표면 기온상승에 영향을 끼치는 것으로 나타났다. 또한, 불투수성포장은 지표면 기온상승 뿐만 아니라 생태적 기능을 저하시키는 결과를 초래하여 생물다양성 감소의 원인으로 작용하고 있으며 자연녹지보다 불투수성포장면적이 넓은 도시지역으로 갈수록 생태적건전성1)은 악화되고 있다. 강릉시 교동 택지 내 불투수성 포장광장의 경우도 조성 된지 16년이 지난 현재 자연순환 기능을 상실하여 도심열섬화를 가중시키는 공간으로 방치되고 있으며, 낙후된 시설들이 시민들의 안전을 위협하고 있어 그에 따른 개선 방안 수립이 절실한 상황이다. 이러한 현실에서 도시민들의 자연환경에 대한 관심은 점차 늘어나고 있는 추세이며, Yun(2016)은 도시의 생태적건전성이 도시민 삶의 질과 직결되어 있으므로 현재 그리고 미래의 세대를 위해 반드시 확보되어야 한다고 했다. 도시의 생태적건전성에 대한 문제는 국제적으로 2006년 독일에서 열린 생물다양성협약(CBD)에서 제기되어 URBIO (Urban Biodiversity and Design)가 개최되면서 본격화되었다. 우리나라에서도 2012년 도시녹지의 생태적 기능 연구가 환경부에서 진행되었고 이후로 국립환경과학원의 2013년 녹색도시 건강성 평가지표 연구 및 2014년 도시생태계 건전성과 관련된 연구가 진행된바 있다. 최근 국립환경과학원을 비롯하여 도시생태적건전성지표에 관한 다양한 연구도 활발히 진행 중에 있다. 이에 본 연구에서는 강릉시 교동 낙후된 광장의 생태적 기능을 회복 할 수 있도록 기반환경과 서식지를 복원하여 생태적건전성 확보를 통한 도심생태휴식공간으로 재탄생시키기 위한 방안을 제시하고자 한다. 또한 재원 확보의 방안으로 환경부 생태계보전협력금을 활용하여 반환사업으로 추진하는 방법을 검토하여본 연구가 보다 실현가능하도록 하는 방안을 제시하고자 한다. 본 연구의 공간적 범위는 강릉시 교동 1891-1번지와 1875-6번지(Fig. 1)에 위치한 도심지 주택가 중심의 미관광장을 대상으로 하고 있다. 약 11,974 m2 규모의 불투수성 포장으로 이루어진 광장으로 2000년도에 조성되어 16년이 지난 현재에는 자연순환 기능을 상실하여 주변 택지를 비롯한 도심'"
      ]
     },
     "execution_count": 34,
     "metadata": {},
     "output_type": "execute_result"
    }
   ],
   "source": [
    "list(sample.text)[0]"
   ]
  },
  {
   "cell_type": "code",
   "execution_count": 114,
   "id": "d007cf4d",
   "metadata": {},
   "outputs": [
    {
     "data": {
      "text/plain": [
       "0.7967382669448853"
      ]
     },
     "execution_count": 114,
     "metadata": {},
     "output_type": "execute_result"
    }
   ],
   "source": [
    "sm = torch.nn.Softmax(dim=0)\n",
    "float(torch.max(sm(outputs[0][0])))"
   ]
  },
  {
   "cell_type": "code",
   "execution_count": 85,
   "id": "7a0b8245",
   "metadata": {},
   "outputs": [
    {
     "data": {
      "text/plain": [
       "-3.392"
      ]
     },
     "execution_count": 85,
     "metadata": {},
     "output_type": "execute_result"
    }
   ],
   "source": [
    "round(float(torch.max(outputs.start_logits[4])), 3)"
   ]
  },
  {
   "cell_type": "code",
   "execution_count": 39,
   "id": "d27a6eb8",
   "metadata": {},
   "outputs": [
    {
     "data": {
      "text/plain": [
       "(tensor(0), tensor(644))"
      ]
     },
     "execution_count": 39,
     "metadata": {},
     "output_type": "execute_result"
    }
   ],
   "source": [
    "outputs.start_logits[4].argmax(dim=-1), outputs.end_logits[4].argmax(dim=-1)"
   ]
  },
  {
   "cell_type": "code",
   "execution_count": 77,
   "id": "2f2dc4e7",
   "metadata": {},
   "outputs": [
    {
     "data": {
      "text/plain": [
       "[{'answer_start': 20,\n",
       "  'answer_end': 20,\n",
       "  'answer': '혼잣말',\n",
       "  'answer_score': [1.091, 1.322]},\n",
       " {'answer_start': 20,\n",
       "  'answer_end': 20,\n",
       "  'answer': '혼잣말',\n",
       "  'answer_score': [1.091, 1.322]}]"
      ]
     },
     "execution_count": 77,
     "metadata": {},
     "output_type": "execute_result"
    }
   ],
   "source": [
    "arr = [ { 'answer_start': 20,\n",
    "    'answer_end': 20,\n",
    "    'answer': '혼잣말',\n",
    "    'answer_score': [ 1.091, 1.322 ] },\n",
    "      { 'answer_start': 20,\n",
    "    'answer_end': 20,\n",
    "    'answer': '혼잣말',\n",
    "    'answer_score': [ 1.091, 1.322 ] }]\n",
    "arr"
   ]
  },
  {
   "cell_type": "code",
   "execution_count": 83,
   "id": "60af9f16",
   "metadata": {},
   "outputs": [],
   "source": [
    "def softmax(n):\n",
    "    exp_n = np.exp(n)\n",
    "    sum_exp_n = np.sum(exp_n)\n",
    "    return exp_n / sum_exp_n"
   ]
  },
  {
   "cell_type": "code",
   "execution_count": 102,
   "id": "2317a9bd",
   "metadata": {},
   "outputs": [
    {
     "data": {
      "text/plain": [
       "0.7967382"
      ]
     },
     "execution_count": 102,
     "metadata": {},
     "output_type": "execute_result"
    }
   ],
   "source": [
    "max(softmax(detached))"
   ]
  },
  {
   "cell_type": "code",
   "execution_count": 62,
   "id": "ee084b60",
   "metadata": {},
   "outputs": [],
   "source": [
    "res2 = json.dumps(tmp, ensure_ascii=False)"
   ]
  },
  {
   "cell_type": "code",
   "execution_count": 57,
   "id": "b0eb58c1",
   "metadata": {},
   "outputs": [],
   "source": [
    "import json\n",
    "\n",
    "res = json.dumps([\n",
    "    {\n",
    "    'context': 'mple of a', \n",
    "    'question': '경술국치가 뭐야?', \n",
    "    'answer': [\n",
    "        {'answer_start': 20, \n",
    "            'answer_end': 24, \n",
    "            'answer': '자료수집선지식', \n",
    "            'answer_score': [2.547, 1.088]}\n",
    "    ]},\n",
    "    {\n",
    "    'context': 'mple of a', \n",
    "    'question': '경술국치가 뭐야?', \n",
    "    'answer': [\n",
    "        {'answer_start': 20, \n",
    "            'answer_end': 24, \n",
    "            'answer': '자료수집선지식', \n",
    "            'answer_score': [2.547, 1.088]}\n",
    "    ]}\n",
    "],ensure_ascii=False)"
   ]
  },
  {
   "cell_type": "code",
   "execution_count": 58,
   "id": "e9baf8d8",
   "metadata": {},
   "outputs": [
    {
     "data": {
      "text/plain": [
       "'[{\"context\": \"mple of a\", \"question\": \"경술국치가 뭐야?\", \"answer\": [{\"answer_start\": 20, \"answer_end\": 24, \"answer\": \"자료수집선지식\", \"answer_score\": [2.547, 1.088]}]}, {\"context\": \"mple of a\", \"question\": \"경술국치가 뭐야?\", \"answer\": [{\"answer_start\": 20, \"answer_end\": 24, \"answer\": \"자료수집선지식\", \"answer_score\": [2.547, 1.088]}]}]'"
      ]
     },
     "execution_count": 58,
     "metadata": {},
     "output_type": "execute_result"
    }
   ],
   "source": [
    "res"
   ]
  },
  {
   "cell_type": "code",
   "execution_count": 35,
   "id": "e77e6612",
   "metadata": {},
   "outputs": [
    {
     "data": {
      "text/plain": [
       "'[CLS] 불투수성포장의 부정적 영향은 ? [SEP] 심광장의 경우 자연순환기능이 상실되면서 지표면 온도가 상승되는 원인을 제공하고 있으며 국내 대다수의 도시에는 이러한 광장들이 존재하고 있다 . 이는 광장으로 조성되기 이전 원지반이 갖고 있던 녹지의 면적 축소와 함께 자연순환기능이 저하되면서 지표면 기온상승에 영향을 끼치는 것으로 나타났다 . 또한 , 불투수성포장은 지표면 기온상승 뿐만 아니라 생태적 기능을 저하시키는 결과를 초래하여 생물다양성 감소의 원인으로 작용하고 있으며 자연녹지보다 불투수성포장면적이 넓은 도시지역으로 갈수록 생태적건전성1 ) 은 악화되고 있다 . 강릉시 교동 택지 내 불투수성 포장광장의 경우도 조성 된지 16년이 지난 현재 자연순환 기능을 상실하여 도심열섬화를 가중시키는 공간으로 방치되고 있으며 , 낙후된 시설들이 시민들의 안전을 위협하고 있어 그에 따른 개선 방안 수립이 절실한 상황이다 . 이러한 현실에서 도시민들의 자연환경에 대한 관심은 점차 늘어나고 있는 추세이며 , Yun ( 2016 ) 은 도시의 생태적건전성이 도시민 삶의 질과 직결되어 있으므로 현재 그리고 미래의 세대를 위해 반드시 확보되어야 한다고 했다 . 도시의 생태적건전성에 대한 문제는 국제적으로 2006년 독일에서 열린 생물다양성협약 ( CBD ) 에서 제기되어 URBIO ( Urban Biodiversity and Design ) 가 개최되면서 본격화되었다 . 우리나라에서도 2012년 도시녹지의 생태적 기능 연구가 환경부에서 진행되었고 이후로 국립환경과학원의 2013년 녹색도시 건강성 평가지표 연구 및 2014년 도시생태계 건전성과 관련된 연구가 진행된바 있다 . 최근 국립환경과학원을 비롯하여 도시생태적건전성지표에 관한 다양한 연구도 활발히 진행 중에 있다 . 이에 본 연구에서는 강릉시 교동 낙후된 광장의 생태적 기능을 회복 할 수 있도록 기반환경과 서식지를 복원하여 생태적건전성 확보를 통한 도심생태휴식공간으로 재탄생시키기 위한 방안을 제시하고자 한다 . 또한 재원 확보의 방안으로 환경부 생태계보전협력금을 활용하여 반환사업으로 추진하는 방법을 검토하여본 연구가 보다 실현가능하도록 하는 방안을 제시하고자 한다 . 본 연구의 공간적 범위는 강릉시 교동 1891 - 1번지와 1875 - 6번지 ( Fig . 1 ) 에 위치한 도심지 주택가 중심의 미관광장을 대상으로 하고 있다 . 약 11 , 974 m2 규모의 불투수성 포장으로 이루어진 광장으로 2000년도에 조성되어 16년이 지난 현재에는 자연순환 기능을 상실하여 주변 택지를 비롯한 도심 [SEP] [PAD] [PAD] [PAD] [PAD] [PAD] [PAD] [PAD] [PAD] [PAD] [PAD]'"
      ]
     },
     "execution_count": 35,
     "metadata": {},
     "output_type": "execute_result"
    }
   ],
   "source": [
    "pred"
   ]
  },
  {
   "cell_type": "code",
   "execution_count": 17,
   "id": "47bb5201",
   "metadata": {},
   "outputs": [
    {
     "name": "stderr",
     "output_type": "stream",
     "text": [
      "/home/ubuntu/.local/lib/python3.8/site-packages/IPython/core/interactiveshell.py:3444: FutureWarning: The error_bad_lines argument has been deprecated and will be removed in a future version.\n",
      "\n",
      "\n",
      "  exec(code_obj, self.user_global_ns, self.user_ns)\n",
      "b'Skipping line 4866: expected 4 fields, saw 5\\nSkipping line 5058: expected 4 fields, saw 5\\nSkipping line 6594: expected 4 fields, saw 5\\nSkipping line 49666: expected 4 fields, saw 5\\nSkipping line 86850: expected 4 fields, saw 5\\nSkipping line 101954: expected 4 fields, saw 5\\nSkipping line 123778: expected 4 fields, saw 6\\nSkipping line 129538: expected 4 fields, saw 5\\n'\n",
      "b'Skipping line 171458: expected 4 fields, saw 6\\n'\n",
      "b'Skipping line 282050: expected 4 fields, saw 5\\nSkipping line 292162: expected 4 fields, saw 5\\n'\n",
      "b'Skipping line 432962: expected 4 fields, saw 5\\nSkipping line 475714: expected 4 fields, saw 5\\nSkipping line 478210: expected 4 fields, saw 5\\n'\n",
      "b'Skipping line 619842: expected 4 fields, saw 5\\n'\n",
      "b'Skipping line 741122: expected 4 fields, saw 5\\nSkipping line 745282: expected 4 fields, saw 5\\n'\n",
      "b'Skipping line 998466: expected 4 fields, saw 6\\nSkipping line 1006850: expected 4 fields, saw 6\\nSkipping line 1007426: expected 4 fields, saw 5\\nSkipping line 1009858: expected 4 fields, saw 5\\nSkipping line 1016194: expected 4 fields, saw 5\\nSkipping line 1019458: expected 4 fields, saw 5\\nSkipping line 1044930: expected 4 fields, saw 5\\n'\n",
      "b'Skipping line 1062530: expected 4 fields, saw 5\\nSkipping line 1129730: expected 4 fields, saw 5\\nSkipping line 1158146: expected 4 fields, saw 5\\nSkipping line 1174594: expected 4 fields, saw 5\\n'\n",
      "b'Skipping line 1216770: expected 4 fields, saw 5\\nSkipping line 1221570: expected 4 fields, saw 5\\nSkipping line 1222338: expected 4 fields, saw 6\\nSkipping line 1238978: expected 4 fields, saw 5\\nSkipping line 1249986: expected 4 fields, saw 5\\nSkipping line 1250370: expected 4 fields, saw 5\\nSkipping line 1266626: expected 4 fields, saw 5\\nSkipping line 1266818: expected 4 fields, saw 6\\nSkipping line 1267010: expected 4 fields, saw 6\\nSkipping line 1284226: expected 4 fields, saw 5\\nSkipping line 1292162: expected 4 fields, saw 5\\nSkipping line 1300098: expected 4 fields, saw 5\\nSkipping line 1304706: expected 4 fields, saw 5\\nSkipping line 1304898: expected 4 fields, saw 5\\nSkipping line 1307906: expected 4 fields, saw 5\\n'\n",
      "b'Skipping line 1316098: expected 4 fields, saw 6\\nSkipping line 1324930: expected 4 fields, saw 6\\nSkipping line 1329346: expected 4 fields, saw 5\\nSkipping line 1338114: expected 4 fields, saw 5\\nSkipping line 1365698: expected 4 fields, saw 5\\nSkipping line 1366850: expected 4 fields, saw 5\\nSkipping line 1388034: expected 4 fields, saw 5\\nSkipping line 1388418: expected 4 fields, saw 5\\nSkipping line 1399042: expected 4 fields, saw 6\\nSkipping line 1402114: expected 4 fields, saw 5\\nSkipping line 1406018: expected 4 fields, saw 5\\n'\n",
      "b'Skipping line 1458562: expected 4 fields, saw 5\\n'\n",
      "b'Skipping line 1587202: expected 4 fields, saw 5\\nSkipping line 1601154: expected 4 fields, saw 5\\nSkipping line 1639490: expected 4 fields, saw 5\\nSkipping line 1641346: expected 4 fields, saw 5\\nSkipping line 1660546: expected 4 fields, saw 7\\n'\n",
      "b'Skipping line 1759426: expected 4 fields, saw 5\\n'\n",
      "b'Skipping line 1853826: expected 4 fields, saw 6\\nSkipping line 1859778: expected 4 fields, saw 5\\nSkipping line 1884226: expected 4 fields, saw 5\\nSkipping line 1914434: expected 4 fields, saw 5\\nSkipping line 1944642: expected 4 fields, saw 5\\nSkipping line 1945794: expected 4 fields, saw 5\\nSkipping line 1946370: expected 4 fields, saw 5\\nSkipping line 1956866: expected 4 fields, saw 7\\nSkipping line 1963202: expected 4 fields, saw 5\\n'\n",
      "b'Skipping line 2013634: expected 4 fields, saw 6\\nSkipping line 2027202: expected 4 fields, saw 5\\nSkipping line 2031554: expected 4 fields, saw 5\\nSkipping line 2032130: expected 4 fields, saw 5\\n'\n"
     ]
    }
   ],
   "source": [
    "import pandas as pd\n",
    "chat = pd.read_csv('chatData.csv', error_bad_lines=False, quoting=3, sep=',', escapechar='\\n')"
   ]
  },
  {
   "cell_type": "code",
   "execution_count": 16,
   "id": "b0c351d4",
   "metadata": {},
   "outputs": [
    {
     "data": {
      "text/html": [
       "<div>\n",
       "<style scoped>\n",
       "    .dataframe tbody tr th:only-of-type {\n",
       "        vertical-align: middle;\n",
       "    }\n",
       "\n",
       "    .dataframe tbody tr th {\n",
       "        vertical-align: top;\n",
       "    }\n",
       "\n",
       "    .dataframe thead th {\n",
       "        text-align: right;\n",
       "    }\n",
       "</style>\n",
       "<table border=\"1\" class=\"dataframe\">\n",
       "  <thead>\n",
       "    <tr style=\"text-align: right;\">\n",
       "      <th></th>\n",
       "      <th>Q</th>\n",
       "      <th>A</th>\n",
       "      <th>label</th>\n",
       "      <th>embedding</th>\n",
       "    </tr>\n",
       "  </thead>\n",
       "  <tbody>\n",
       "    <tr>\n",
       "      <th>0</th>\n",
       "      <td>12시 땡!</td>\n",
       "      <td>하루가 또 가네요.</td>\n",
       "      <td>0.0</td>\n",
       "      <td>\"[ 2.01795369e-01 -3.44379283e-02  1.53957367e...</td>\n",
       "    </tr>\n",
       "    <tr>\n",
       "      <th>1</th>\n",
       "      <td>3.79792005e-01  1.42493680e-01  1.82864383e-...</td>\n",
       "      <td>NaN</td>\n",
       "      <td>NaN</td>\n",
       "      <td>NaN</td>\n",
       "    </tr>\n",
       "    <tr>\n",
       "      <th>2</th>\n",
       "      <td>-3.94889355e-01 -1.17657103e-01 -2.32989192e-...</td>\n",
       "      <td>NaN</td>\n",
       "      <td>NaN</td>\n",
       "      <td>NaN</td>\n",
       "    </tr>\n",
       "    <tr>\n",
       "      <th>3</th>\n",
       "      <td>-2.47104481e-01  3.14535856e-01  5.60950637e-...</td>\n",
       "      <td>NaN</td>\n",
       "      <td>NaN</td>\n",
       "      <td>NaN</td>\n",
       "    </tr>\n",
       "    <tr>\n",
       "      <th>4</th>\n",
       "      <td>-2.92885333e-01 -2.04060197e-01  3.35198753e-...</td>\n",
       "      <td>NaN</td>\n",
       "      <td>NaN</td>\n",
       "      <td>NaN</td>\n",
       "    </tr>\n",
       "    <tr>\n",
       "      <th>...</th>\n",
       "      <td>...</td>\n",
       "      <td>...</td>\n",
       "      <td>...</td>\n",
       "      <td>...</td>\n",
       "    </tr>\n",
       "    <tr>\n",
       "      <th>2167803</th>\n",
       "      <td>-2.34302357e-02 -1.52035654e-01  1.01029314e-...</td>\n",
       "      <td>NaN</td>\n",
       "      <td>NaN</td>\n",
       "      <td>NaN</td>\n",
       "    </tr>\n",
       "    <tr>\n",
       "      <th>2167804</th>\n",
       "      <td>1.15168624e-01 -5.84745221e-02  8.86170492e-...</td>\n",
       "      <td>NaN</td>\n",
       "      <td>NaN</td>\n",
       "      <td>NaN</td>\n",
       "    </tr>\n",
       "    <tr>\n",
       "      <th>2167805</th>\n",
       "      <td>7.53511116e-02  1.99905574e-01  3.19847763e-...</td>\n",
       "      <td>NaN</td>\n",
       "      <td>NaN</td>\n",
       "      <td>NaN</td>\n",
       "    </tr>\n",
       "    <tr>\n",
       "      <th>2167806</th>\n",
       "      <td>-6.96479157e-02 -1.77732170e-01 -2.13060245e-...</td>\n",
       "      <td>NaN</td>\n",
       "      <td>NaN</td>\n",
       "      <td>NaN</td>\n",
       "    </tr>\n",
       "    <tr>\n",
       "      <th>2167807</th>\n",
       "      <td>1.41608328e-01  6.00646548e-02 -6.32129190e-...</td>\n",
       "      <td>NaN</td>\n",
       "      <td>NaN</td>\n",
       "      <td>NaN</td>\n",
       "    </tr>\n",
       "  </tbody>\n",
       "</table>\n",
       "<p>2167808 rows × 4 columns</p>\n",
       "</div>"
      ],
      "text/plain": [
       "                                                         Q           A  label  \\\n",
       "0                                                   12시 땡!  하루가 또 가네요.    0.0   \n",
       "1          3.79792005e-01  1.42493680e-01  1.82864383e-...         NaN    NaN   \n",
       "2         -3.94889355e-01 -1.17657103e-01 -2.32989192e-...         NaN    NaN   \n",
       "3         -2.47104481e-01  3.14535856e-01  5.60950637e-...         NaN    NaN   \n",
       "4         -2.92885333e-01 -2.04060197e-01  3.35198753e-...         NaN    NaN   \n",
       "...                                                    ...         ...    ...   \n",
       "2167803   -2.34302357e-02 -1.52035654e-01  1.01029314e-...         NaN    NaN   \n",
       "2167804    1.15168624e-01 -5.84745221e-02  8.86170492e-...         NaN    NaN   \n",
       "2167805    7.53511116e-02  1.99905574e-01  3.19847763e-...         NaN    NaN   \n",
       "2167806   -6.96479157e-02 -1.77732170e-01 -2.13060245e-...         NaN    NaN   \n",
       "2167807    1.41608328e-01  6.00646548e-02 -6.32129190e-...         NaN    NaN   \n",
       "\n",
       "                                                 embedding  \n",
       "0        \"[ 2.01795369e-01 -3.44379283e-02  1.53957367e...  \n",
       "1                                                      NaN  \n",
       "2                                                      NaN  \n",
       "3                                                      NaN  \n",
       "4                                                      NaN  \n",
       "...                                                    ...  \n",
       "2167803                                                NaN  \n",
       "2167804                                                NaN  \n",
       "2167805                                                NaN  \n",
       "2167806                                                NaN  \n",
       "2167807                                                NaN  \n",
       "\n",
       "[2167808 rows x 4 columns]"
      ]
     },
     "execution_count": 16,
     "metadata": {},
     "output_type": "execute_result"
    }
   ],
   "source": [
    "chat"
   ]
  },
  {
   "cell_type": "code",
   "execution_count": null,
   "id": "61ded416",
   "metadata": {},
   "outputs": [],
   "source": []
  }
 ],
 "metadata": {
  "kernelspec": {
   "display_name": "Python 3 (ipykernel)",
   "language": "python",
   "name": "python3"
  },
  "language_info": {
   "codemirror_mode": {
    "name": "ipython",
    "version": 3
   },
   "file_extension": ".py",
   "mimetype": "text/x-python",
   "name": "python",
   "nbconvert_exporter": "python",
   "pygments_lexer": "ipython3",
   "version": "3.8.10"
  }
 },
 "nbformat": 4,
 "nbformat_minor": 5
}
