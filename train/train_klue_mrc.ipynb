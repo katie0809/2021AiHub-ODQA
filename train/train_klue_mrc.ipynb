{
 "cells": [
  {
   "cell_type": "markdown",
   "metadata": {
    "id": "RDEePJP0JsOs"
   },
   "source": [
    "# Changelogs\n",
    "\n",
    "| Version  | Loss | EM Score | F1 Score | Changes | Comment |\n",
    "|----------|----------|----------|--------------|---------|---------|\n",
    "| (1106)v5 | 1.5378 | 42.6 |  42.6  |  initial baseline using KLUE-Roberta-base | 데이터 3천개만 사용 |\n",
    "| (1107)v1 | 0.679 | 0.221 | 0.6171 | data split ratio:20%, weight decay:2e-5, max answer len:200 추가 | |"
   ]
  },
  {
   "cell_type": "code",
   "execution_count": null,
   "metadata": {
    "colab": {
     "base_uri": "https://localhost:8080/"
    },
    "executionInfo": {
     "elapsed": 304,
     "status": "ok",
     "timestamp": 1636416254112,
     "user": {
      "displayName": "이경임",
      "photoUrl": "https://lh3.googleusercontent.com/a/default-user=s64",
      "userId": "07956650643598079823"
     },
     "user_tz": -540
    },
    "id": "F0q5muCdJBGf",
    "outputId": "97a417cb-cd02-4b11-80f3-8ace1d641a29"
   },
   "outputs": [],
   "source": [
    "from google.colab import drive\n",
    "drive.mount('/content/drive')"
   ]
  },
  {
   "cell_type": "code",
   "execution_count": 5,
   "metadata": {
    "executionInfo": {
     "elapsed": 76,
     "status": "ok",
     "timestamp": 1636416254531,
     "user": {
      "displayName": "이경임",
      "photoUrl": "https://lh3.googleusercontent.com/a/default-user=s64",
      "userId": "07956650643598079823"
     },
     "user_tz": -540
    },
    "id": "QntgPC-cJugD"
   },
   "outputs": [
    {
     "name": "stdout",
     "output_type": "stream",
     "text": [
      "/home/ubuntu/kylee\r\n"
     ]
    }
   ],
   "source": [
    "!pwd"
   ]
  },
  {
   "cell_type": "markdown",
   "metadata": {
    "id": "a5HpsZ9DJu0W"
   },
   "source": [
    "# Load & Prepare(KLUE)"
   ]
  },
  {
   "cell_type": "code",
   "execution_count": 10,
   "metadata": {
    "colab": {
     "base_uri": "https://localhost:8080/"
    },
    "executionInfo": {
     "elapsed": 77,
     "status": "ok",
     "timestamp": 1636416254532,
     "user": {
      "displayName": "이경임",
      "photoUrl": "https://lh3.googleusercontent.com/a/default-user=s64",
      "userId": "07956650643598079823"
     },
     "user_tz": -540
    },
    "id": "FIm1e7T9JEwV",
    "outputId": "7549b3c4-54b9-4bf5-cb3b-4a6f80f370fd"
   },
   "outputs": [
    {
     "name": "stdout",
     "output_type": "stream",
     "text": [
      "/home/ubuntu/kylee\n"
     ]
    }
   ],
   "source": [
    "# PATH='/content/drive/MyDrive/ML/2021AiHubCompetition_1107'\n",
    "PATH='/home/ubuntu/kylee'\n",
    "KLUE_workspace = '/KLUE-baseline'\n",
    "%cd $PATH"
   ]
  },
  {
   "cell_type": "code",
   "execution_count": null,
   "metadata": {
    "colab": {
     "base_uri": "https://localhost:8080/"
    },
    "executionInfo": {
     "elapsed": 9339,
     "status": "ok",
     "timestamp": 1636416269985,
     "user": {
      "displayName": "이경임",
      "photoUrl": "https://lh3.googleusercontent.com/a/default-user=s64",
      "userId": "07956650643598079823"
     },
     "user_tz": -540
    },
    "id": "r-muRV-O0w24",
    "outputId": "e9f0c665-7048-4794-ad9d-50021940a223"
   },
   "outputs": [],
   "source": [
    "# !git clone https://github.com/katie0809/KLUE-baseline.git\n",
    "%cd $PATH$KLUE_workspace\n",
    "!git pull"
   ]
  },
  {
   "cell_type": "code",
   "execution_count": null,
   "metadata": {
    "colab": {
     "base_uri": "https://localhost:8080/"
    },
    "executionInfo": {
     "elapsed": 22100,
     "status": "ok",
     "timestamp": 1636344532815,
     "user": {
      "displayName": "이경임",
      "photoUrl": "https://lh3.googleusercontent.com/a/default-user=s64",
      "userId": "07956650643598079823"
     },
     "user_tz": -540
    },
    "id": "XC5cmrik1Q0J",
    "outputId": "a544a256-5f4d-4f26-f75d-65f6cad2ed60"
   },
   "outputs": [],
   "source": [
    "!git status"
   ]
  },
  {
   "cell_type": "markdown",
   "metadata": {
    "id": "humfLv8hLM04"
   },
   "source": [
    "### Install libraries"
   ]
  },
  {
   "cell_type": "code",
   "execution_count": null,
   "metadata": {
    "colab": {
     "base_uri": "https://localhost:8080/"
    },
    "executionInfo": {
     "elapsed": 148890,
     "status": "ok",
     "timestamp": 1636416422152,
     "user": {
      "displayName": "이경임",
      "photoUrl": "https://lh3.googleusercontent.com/a/default-user=s64",
      "userId": "07956650643598079823"
     },
     "user_tz": -540
    },
    "id": "-hrDa-BhJUDL",
    "outputId": "49ddb54e-4954-4d9c-e8c8-068db028ee11"
   },
   "outputs": [],
   "source": [
    "!pip install -qr $PATH$KLUE_workspace'/requirements.txt'"
   ]
  },
  {
   "cell_type": "code",
   "execution_count": null,
   "metadata": {
    "colab": {
     "base_uri": "https://localhost:8080/"
    },
    "executionInfo": {
     "elapsed": 79143,
     "status": "ok",
     "timestamp": 1636416501292,
     "user": {
      "displayName": "이경임",
      "photoUrl": "https://lh3.googleusercontent.com/a/default-user=s64",
      "userId": "07956650643598079823"
     },
     "user_tz": -540
    },
    "id": "rE45jZf0RhVM",
    "outputId": "754de87d-d282-4d5c-96eb-d4e5672f90e0"
   },
   "outputs": [],
   "source": [
    "!pip install -q transformers\n",
    "!pip install -q torchtext==0.8.0 torch==1.7.1 pytorch-lightning==1.2.2"
   ]
  },
  {
   "cell_type": "code",
   "execution_count": null,
   "metadata": {},
   "outputs": [],
   "source": [
    "!pip install -q torchtext==0.8.0"
   ]
  },
  {
   "cell_type": "code",
   "execution_count": 6,
   "metadata": {
    "executionInfo": {
     "elapsed": 4635,
     "status": "ok",
     "timestamp": 1636416505924,
     "user": {
      "displayName": "이경임",
      "photoUrl": "https://lh3.googleusercontent.com/a/default-user=s64",
      "userId": "07956650643598079823"
     },
     "user_tz": -540
    },
    "id": "BqRQv1Z_J_Rs"
   },
   "outputs": [
    {
     "name": "stderr",
     "output_type": "stream",
     "text": [
      "2021-11-21 08:56:47.988755: I tensorflow/stream_executor/platform/default/dso_loader.cc:48] Successfully opened dynamic library libcudart.so.10.1\n"
     ]
    }
   ],
   "source": [
    "import numpy as np\n",
    "import pandas as pd\n",
    "import os\n",
    "from pathlib import Path\n",
    "import seaborn as sns\n",
    "from sklearn.model_selection import train_test_split\n",
    "import json\n",
    "from tqdm import tqdm\n",
    "import re\n",
    "import datetime\n",
    "import sys\n",
    "import hashlib\n",
    "import pickle\n",
    "import yaml\n",
    "\n",
    "import torch\n",
    "from torch.utils.data import Dataset, DataLoader\n",
    "# import torchtext\n",
    "\n",
    "import tensorflow as tf\n",
    "from tensorflow import keras\n",
    "from tensorflow.keras import *\n",
    "from tensorflow.keras.layers import *\n",
    "from tensorflow.keras.optimizers import *\n",
    "\n",
    "import sklearn\n",
    "from sklearn.metrics import confusion_matrix,accuracy_score\n",
    "from sklearn.model_selection import StratifiedKFold\n",
    "\n",
    "import transformers\n",
    "from transformers import BertTokenizer,AdamWeightDecay,TFRobertaModel,TFBertModel,BertConfig\n",
    "from transformers import AutoTokenizer, AutoModelForQuestionAnswering, AdamW\n",
    "\n",
    "# ignore warnings filter\n",
    "from warnings import simplefilter\n",
    "simplefilter('ignore')\n",
    "\n",
    "global bert_inputs, docs, qnas\n",
    "\n",
    "pd.set_option('display.max_colwidth', None)"
   ]
  },
  {
   "cell_type": "code",
   "execution_count": 7,
   "metadata": {
    "colab": {
     "base_uri": "https://localhost:8080/"
    },
    "executionInfo": {
     "elapsed": 9,
     "status": "ok",
     "timestamp": 1636416505925,
     "user": {
      "displayName": "이경임",
      "photoUrl": "https://lh3.googleusercontent.com/a/default-user=s64",
      "userId": "07956650643598079823"
     },
     "user_tz": -540
    },
    "id": "ZybQdK5xLT-l",
    "outputId": "958338b1-f1c3-4ee2-e3f9-34d1772e89ba"
   },
   "outputs": [
    {
     "name": "stdout",
     "output_type": "stream",
     "text": [
      "2.3.0\n",
      "1.18.5\n",
      "1.3.4\n",
      "2.4.0\n",
      "0.24.1\n",
      "4.11.3\n",
      "1.6.0\n"
     ]
    }
   ],
   "source": [
    "print(tf.__version__)\n",
    "print(np.__version__)\n",
    "print(pd.__version__)\n",
    "print(keras.__version__)\n",
    "print(sklearn.__version__)\n",
    "print(transformers.__version__)\n",
    "# print(pororo.__version__)\n",
    "print(torch.__version__)"
   ]
  },
  {
   "cell_type": "markdown",
   "metadata": {
    "id": "lhwgyuRSLQDO"
   },
   "source": [
    "### Variables"
   ]
  },
  {
   "cell_type": "code",
   "execution_count": 11,
   "metadata": {
    "colab": {
     "base_uri": "https://localhost:8080/",
     "height": 38
    },
    "executionInfo": {
     "elapsed": 7,
     "status": "ok",
     "timestamp": 1636416505925,
     "user": {
      "displayName": "이경임",
      "photoUrl": "https://lh3.googleusercontent.com/a/default-user=s64",
      "userId": "07956650643598079823"
     },
     "user_tz": -540
    },
    "id": "fWxrFrq3LdXk",
    "outputId": "d530d65c-a3fd-4ea5-d2c6-179e2ffbdb25"
   },
   "outputs": [
    {
     "data": {
      "text/plain": [
       "'11월 21일 8시 57분 실행'"
      ]
     },
     "metadata": {},
     "output_type": "display_data"
    }
   ],
   "source": [
    "model_name = 'klue/roberta-base'\n",
    "pretrained_model_name = 'aihubresearch_bert_v1'\n",
    "pretrained_dir = PATH+'/klue-baseline'\n",
    "\n",
    "data_dir = PATH+'/qa_dataset'\n",
    "train_file = data_dir + '/train.csv'\n",
    "test_file = data_dir + '/test.csv'\n",
    "samplesub_file = data_dir + '/sample_submission.csv'\n",
    "\n",
    "build_dir = PATH+'/build'\n",
    "# output_dir = build_dir / model_name\n",
    "# trn_encoded_file = output_dir / 'trn.enc.joblib'\n",
    "# val_predict_file = output_dir / f'{model_name}.val.txt'\n",
    "submission_file = 'sub.csv'\n",
    "\n",
    "id_col = 'id'\n",
    "text_col = 'excerpt'\n",
    "target_col = 'target'\n",
    "\n",
    "max_len = 1024\n",
    "ans_max = 200 # 답변 최대 글자수는 200\n",
    "epochs = 1\n",
    "n_fold = 5\n",
    "n_est = 9\n",
    "n_stop = 2\n",
    "batch_size = 8\n",
    "seed = 42\n",
    "\n",
    "now = datetime.datetime.now()\n",
    "year, month, day, hour, min = now.year, now.month, now.day, now.hour, now.minute\n",
    "display(f'{month}월 {day}일 {hour}시 {min}분 실행')\n",
    "\n",
    "version = f'{day}{hour}'"
   ]
  },
  {
   "cell_type": "code",
   "execution_count": 12,
   "metadata": {
    "executionInfo": {
     "elapsed": 6,
     "status": "ok",
     "timestamp": 1636416505926,
     "user": {
      "displayName": "이경임",
      "photoUrl": "https://lh3.googleusercontent.com/a/default-user=s64",
      "userId": "07956650643598079823"
     },
     "user_tz": -540
    },
    "id": "1GBaiBJQLeBO"
   },
   "outputs": [
    {
     "data": {
      "text/plain": [
       "'218'"
      ]
     },
     "execution_count": 12,
     "metadata": {},
     "output_type": "execute_result"
    }
   ],
   "source": [
    "version"
   ]
  },
  {
   "cell_type": "markdown",
   "metadata": {
    "id": "z4kBPWqjLfvm"
   },
   "source": [
    "### Check & Clear GPU Usage"
   ]
  },
  {
   "cell_type": "code",
   "execution_count": null,
   "metadata": {
    "colab": {
     "base_uri": "https://localhost:8080/"
    },
    "executionInfo": {
     "elapsed": 19,
     "status": "ok",
     "timestamp": 1636279247996,
     "user": {
      "displayName": "이경임",
      "photoUrl": "https://lh3.googleusercontent.com/a/default-user=s64",
      "userId": "07956650643598079823"
     },
     "user_tz": -540
    },
    "id": "sDGrfW-4LhW-",
    "outputId": "780b87a7-78fe-410b-f4c6-1d589f11fd8a"
   },
   "outputs": [],
   "source": [
    "!nvidia-smi"
   ]
  },
  {
   "cell_type": "code",
   "execution_count": null,
   "metadata": {
    "id": "C7qaOwa6LoKr"
   },
   "outputs": [],
   "source": [
    "import torch\n",
    "import gc\n",
    "\n",
    "torch.cuda.empty_cache()\n",
    "gc.collect()\n",
    "\n",
    "torch.cuda.memory_summary(device=None, abbreviated=False)"
   ]
  },
  {
   "cell_type": "code",
   "execution_count": null,
   "metadata": {
    "id": "rpOYUM6dLr5e"
   },
   "outputs": [],
   "source": []
  },
  {
   "cell_type": "markdown",
   "metadata": {
    "id": "OZxqHHX-MQoH"
   },
   "source": [
    "# 데이터 전처리"
   ]
  },
  {
   "cell_type": "code",
   "execution_count": null,
   "metadata": {
    "id": "ZsVz7KGgMSSL"
   },
   "outputs": [],
   "source": [
    "def preprocess(sentence):\n",
    "  ret = re.sub('[-=+,#/\\:^$@*\\\"※~&%ㆍ!』\\\\‘|\\(\\)\\[\\]\\<\\>`\\'…》]', '', sentence) # 특수문자 제거\n",
    "  ret = re.sub(r'[\\n\\r\\t]+', ' ', sentence) # 개행문자 제거\n",
    "  ret = ret.strip() # 양쪽공백 제거\n",
    "  return ret"
   ]
  },
  {
   "cell_type": "code",
   "execution_count": null,
   "metadata": {
    "id": "_nBZpiX-Mfoz"
   },
   "outputs": [],
   "source": [
    "def createTrainSet(docs, qs):\n",
    "    infos, errs = [], []\n",
    "    numQ = len(qs)\n",
    "\n",
    "    doc_ids = docs.index\n",
    "    titles, contexts = docs['title'], docs['context']\n",
    "    questions, answers = qs['question'], qs['answer']\n",
    "    ans_starts = qs['answer_start']\n",
    "\n",
    "    for idx in tqdm(range(numQ)):\n",
    "      try:\n",
    "        doc_id = qs['doc_id'][idx]\n",
    "        if doc_id in doc_ids:\n",
    "          curttl = preprocess(titles[doc_id])\n",
    "          curctx = contexts[doc_id]\n",
    "          curans = preprocess(curctx[int(ans_starts[idx]):int(ans_starts[idx])+len(answers[idx])])\n",
    "          curctx = preprocess(curctx)\n",
    "          ans_start = curctx.find(curans)\n",
    "\n",
    "          # 논문 원문 자른다. 답변 구간을 포함한 1500자로 자른다.\n",
    "          offset_st = 0 if ans_start < 300 else np.random.randint(ans_start-300, ans_start)\n",
    "          offset_end = offset_st + 1200\n",
    "          curctx = curctx[offset_st:offset_end]\n",
    "\n",
    "          # 답변의 시작, 끝지점값을 조정된 논문에 맞춰 다시 계산한다.\n",
    "          ans_start -= offset_st\n",
    "          ans_end = ans_start+len(curans)\n",
    "\n",
    "          infos.append({\n",
    "              'title': curttl,\n",
    "              'text': curctx,\n",
    "              'question': questions[idx],\n",
    "              'answer': curans[:ans_max],\n",
    "              'answer_start': ans_start,\n",
    "              'answer_end': ans_end\n",
    "          })\n",
    "          \n",
    "        else:\n",
    "          errs.append({'idx': idx, 'doc_id': doc_id})\n",
    "      except Exception as e:\n",
    "        errs.append({'idx': idx, 'err': e})\n",
    "\n",
    "    return infos, errs"
   ]
  },
  {
   "cell_type": "markdown",
   "metadata": {
    "id": "18Li15c8MyYZ"
   },
   "source": [
    "#### Create new train set"
   ]
  },
  {
   "cell_type": "code",
   "execution_count": null,
   "metadata": {
    "id": "SER9Kj7pMlAs"
   },
   "outputs": [],
   "source": [
    "docs = pd.read_csv(PATH+'/documents.csv', index_col=0)\n",
    "qnas = pd.read_csv(PATH+'/questions.csv')\n",
    "train, errs = createTrainSet(docs, qnas)"
   ]
  },
  {
   "cell_type": "code",
   "execution_count": null,
   "metadata": {
    "colab": {
     "base_uri": "https://localhost:8080/"
    },
    "executionInfo": {
     "elapsed": 616,
     "status": "ok",
     "timestamp": 1636268939998,
     "user": {
      "displayName": "이경임",
      "photoUrl": "https://lh3.googleusercontent.com/a/default-user=s64",
      "userId": "07956650643598079823"
     },
     "user_tz": -540
    },
    "id": "9TZ45G1LOgyd",
    "outputId": "575090cd-e06c-40a2-b8a7-2db005ba13d3"
   },
   "outputs": [],
   "source": [
    "errs"
   ]
  },
  {
   "cell_type": "code",
   "execution_count": null,
   "metadata": {
    "id": "BKNpyOXoOqQ0"
   },
   "outputs": [],
   "source": [
    "pd.DataFrame(train).to_csv('aihub-mrc-v'+version+'_train.csv', index=False)"
   ]
  },
  {
   "cell_type": "markdown",
   "metadata": {
    "id": "Zy2qhoEzM7Tn"
   },
   "source": [
    "#### Load saved train set"
   ]
  },
  {
   "cell_type": "code",
   "execution_count": null,
   "metadata": {
    "id": "kW-Wx30nM9GY"
   },
   "outputs": [],
   "source": [
    "train = pd.read_csv('aihub-mrc-v1423_train.csv')\n",
    "display(train)"
   ]
  },
  {
   "cell_type": "code",
   "execution_count": null,
   "metadata": {
    "id": "W7dTPiYGOwnm"
   },
   "outputs": [],
   "source": [
    "del docs, qnas"
   ]
  },
  {
   "cell_type": "markdown",
   "metadata": {
    "id": "PKVYmRpoQADn"
   },
   "source": [
    "### 데이터 확인"
   ]
  },
  {
   "cell_type": "code",
   "execution_count": null,
   "metadata": {
    "id": "BQkP0QM6QBcJ"
   },
   "outputs": [],
   "source": [
    "train.isnull().sum()"
   ]
  },
  {
   "cell_type": "markdown",
   "metadata": {
    "id": "s1avuwMLQUQQ"
   },
   "source": [
    "- 데이터셋의 answer문장이 context에 제대로 포함되는지 확인\n",
    "- answer_start가 실제 answer시작점과 일치하는지 확인"
   ]
  },
  {
   "cell_type": "code",
   "execution_count": null,
   "metadata": {
    "id": "S70G2TGuQKX-"
   },
   "outputs": [],
   "source": [
    "for i, el in tqdm(enumerate(train.itertuples())):\n",
    "  ii = str(el.text).find(el.answer)\n",
    "  if ii == -1 or ii != el.answer_start:\n",
    "    print(el)"
   ]
  },
  {
   "cell_type": "markdown",
   "metadata": {
    "id": "UrQNR-PkP6EZ"
   },
   "source": [
    "검증셋 분리"
   ]
  },
  {
   "cell_type": "code",
   "execution_count": null,
   "metadata": {
    "id": "Rc_tX5W8P7c_"
   },
   "outputs": [],
   "source": [
    "x_train, x_valid = train_test_split(train, test_size=0.2, random_state=42)\n",
    "print(len(x_train), len(x_valid))"
   ]
  },
  {
   "cell_type": "code",
   "execution_count": null,
   "metadata": {
    "id": "wq9FbrOCQ_5o"
   },
   "outputs": [],
   "source": [
    "x_train.to_csv(PATH+'/x_train.csv', index=False)\n",
    "x_valid.to_csv(PATH+'/x_valid.csv', index=False)"
   ]
  },
  {
   "cell_type": "code",
   "execution_count": null,
   "metadata": {
    "id": "2tBjWo8RRM8r"
   },
   "outputs": [],
   "source": [
    "x_train = pd.read_csv(PATH+'/x_train.csv')\n",
    "x_valid = pd.read_csv(PATH+'/x_valid.csv')"
   ]
  },
  {
   "cell_type": "code",
   "execution_count": null,
   "metadata": {
    "id": "h4O-aTPVRMvz",
    "scrolled": true
   },
   "outputs": [],
   "source": [
    "display(x_train, x_valid)"
   ]
  },
  {
   "cell_type": "code",
   "execution_count": null,
   "metadata": {},
   "outputs": [],
   "source": [
    "x_train[:10000].to_csv(PATH+'/x_train_light.csv', index=False)\n",
    "x_valid[:1000].to_csv(PATH+'/x_valid_light.csv', index=False)"
   ]
  },
  {
   "cell_type": "code",
   "execution_count": null,
   "metadata": {},
   "outputs": [],
   "source": []
  },
  {
   "cell_type": "code",
   "execution_count": null,
   "metadata": {},
   "outputs": [],
   "source": [
    "# del x_train, x_valid"
   ]
  },
  {
   "cell_type": "markdown",
   "metadata": {},
   "source": [
    "# Train(KoBigbird)"
   ]
  },
  {
   "cell_type": "markdown",
   "metadata": {},
   "source": [
    "### Load & Prepare(KoBigbird)"
   ]
  },
  {
   "cell_type": "code",
   "execution_count": null,
   "metadata": {},
   "outputs": [],
   "source": [
    "Bigbird_workspace = '/KoBigBird'\n",
    "model_name = \"monologg/kobigbird-bert-base\""
   ]
  },
  {
   "cell_type": "code",
   "execution_count": null,
   "metadata": {},
   "outputs": [],
   "source": [
    "!git clone https://github.com/monologg/KoBigBird.git\n",
    "%cd $PATH$Bigbird_workspace\n",
    "!git pull"
   ]
  },
  {
   "cell_type": "code",
   "execution_count": null,
   "metadata": {},
   "outputs": [],
   "source": [
    "!git status"
   ]
  },
  {
   "cell_type": "code",
   "execution_count": null,
   "metadata": {},
   "outputs": [],
   "source": []
  },
  {
   "cell_type": "markdown",
   "metadata": {},
   "source": [
    "### Install libraries"
   ]
  },
  {
   "cell_type": "code",
   "execution_count": null,
   "metadata": {
    "scrolled": true
   },
   "outputs": [],
   "source": [
    "!pip install transformers==4.11.3\n",
    "!pip install sentencepiece\n",
    "!pip install -qr $PATH$Bigbird_workspace'/finetune/requirements.txt'\n",
    "# !pip install torch==1.8.1\n",
    "# !pip install git+https://github.com/vasudevgupta7/transformers.git@add_big_bird # TODO: replace with new pip version eventually\n",
    "# !sudo apt-get install liblzma-dev"
   ]
  },
  {
   "cell_type": "code",
   "execution_count": null,
   "metadata": {},
   "outputs": [],
   "source": [
    "import torch\n",
    "import torch.utils.data as torch_data"
   ]
  },
  {
   "cell_type": "code",
   "execution_count": null,
   "metadata": {},
   "outputs": [],
   "source": []
  },
  {
   "cell_type": "markdown",
   "metadata": {},
   "source": [
    "### Train"
   ]
  },
  {
   "cell_type": "code",
   "execution_count": null,
   "metadata": {
    "scrolled": false
   },
   "outputs": [],
   "source": [
    "!python $PATH$Bigbird_workspace'/finetune/run.py' \\\n",
    "--task 'qa' \\\n",
    "--dataset 'korquad_2' \\\n",
    "--do_train \\\n",
    "--data_dir $PATH \\\n",
    "--train_file 'x_train_light.csv' \\\n",
    "--predict_file 'x_valid_light.csv' \\\n",
    "--model_name_or_path 'monologg/kobigbird-bert-base' \\\n",
    "--output_dir $PATH'/output' \\\n",
    "--data_dir $PATH \\\n",
    "--learning_rate 3e-5 \\\n",
    "--weight_decay 2e-5 \\\n",
    "--num_train_epochs 1 \\\n",
    "--train_batch_size 1 \\\n",
    "--max_seq_length 2048 \\\n",
    "--doc_stride 128 \\\n",
    "--max_answer_length 2048 \\\n",
    "--gradient_accumulation_steps 4"
   ]
  },
  {
   "cell_type": "code",
   "execution_count": 13,
   "metadata": {},
   "outputs": [],
   "source": [
    "OUTPUT_DIR = f\"{PATH}/output/qa/korquad_2/0-0-ckpt\"\n",
    "OUTPUT_DIR = \"/home/ubuntu/2021AiHub-ODQA/models/korquad_2/0-2-ckpt\""
   ]
  },
  {
   "cell_type": "code",
   "execution_count": 29,
   "metadata": {},
   "outputs": [],
   "source": [
    "from transformers import BigBirdTokenizer, BigBirdForQuestionAnswering, AutoModelForQuestionAnswering, AutoTokenizer\n",
    "import torch\n",
    "\n",
    "# model = BigBirdForQuestionAnswering.from_pretrained('google/bigbird-base-trivia-itc')\n",
    "model = AutoModelForQuestionAnswering.from_pretrained(OUTPUT_DIR)\n",
    "# tokenizer = AutoTokenizer.from_pretrained('monologg/kobigbird-bert-base')\n",
    "tokenizer = AutoTokenizer.from_pretrained(OUTPUT_DIR)"
   ]
  },
  {
   "cell_type": "code",
   "execution_count": 33,
   "metadata": {},
   "outputs": [],
   "source": [
    "model = AutoModelForQuestionAnswering.from_pretrained(\n",
    "    '/home/ubuntu/2021AiHub-ODQA/models/korquad_2/0-0-ckpt',\n",
    ")\n",
    "tokenizer = AutoTokenizer.from_pretrained(\n",
    "    '/home/ubuntu/2021AiHub-ODQA/models/korquad_2/0-0-ckpt', \n",
    "    use_fast=False\n",
    ")"
   ]
  },
  {
   "cell_type": "code",
   "execution_count": null,
   "metadata": {},
   "outputs": [],
   "source": []
  },
  {
   "cell_type": "markdown",
   "metadata": {
    "id": "NoA1Aq1ZRPnq"
   },
   "source": [
    "# Train(Klue)"
   ]
  },
  {
   "cell_type": "code",
   "execution_count": null,
   "metadata": {
    "colab": {
     "base_uri": "https://localhost:8080/"
    },
    "executionInfo": {
     "elapsed": 418989,
     "status": "ok",
     "timestamp": 1636284437414,
     "user": {
      "displayName": "이경임",
      "photoUrl": "https://lh3.googleusercontent.com/a/default-user=s64",
      "userId": "07956650643598079823"
     },
     "user_tz": -540
    },
    "id": "reOzGLpMRQj-",
    "outputId": "36afe754-442f-4d5f-d34a-cff3b3723840",
    "scrolled": true
   },
   "outputs": [],
   "source": [
    "model_name = 'klue/roberta-base'\n",
    "!python $PATH$KLUE_workspace'/run_klue.py' train --task 'klue-mrc' --data_split_ratio 10 --model_name_or_path $model_name --output_dir $PATH'/output' --data_dir $PATH --learning_rate 3e-5 --weight_decay 2e-5 --num_train_epochs 1 --train_batch_size 1 --eval_batch_size 1 --patience 100000 --max_seq_length 510 --max_answer_length 200 --metric_key rouge_w --gpus 0 --num_workers 4 --verbose_step_count 1000"
   ]
  },
  {
   "cell_type": "code",
   "execution_count": null,
   "metadata": {
    "executionInfo": {
     "elapsed": 301,
     "status": "ok",
     "timestamp": 1636416637730,
     "user": {
      "displayName": "이경임",
      "photoUrl": "https://lh3.googleusercontent.com/a/default-user=s64",
      "userId": "07956650643598079823"
     },
     "user_tz": -540
    },
    "id": "T9N1w0WRTOnw"
   },
   "outputs": [],
   "source": [
    "OUTPUT_DIR = f\"{PATH}/output/klue-mrc/version_23\""
   ]
  },
  {
   "cell_type": "code",
   "execution_count": null,
   "metadata": {
    "colab": {
     "base_uri": "https://localhost:8080/",
     "height": 177,
     "referenced_widgets": [
      "e1ed3939dfa642308a7ea7c4cff21b42",
      "674b4d92bf154fa2bd446a92a15fe127",
      "aece92e9e5da4cb9a2ae3ab45cc0429a",
      "787a079044ec4c2089adf439cf0f93f3",
      "e961ad843a4a42ccbcc8de743615a9df",
      "912357ce1a49449fa5bc07ade4f84f33",
      "74c16425d41c494281b2336e57979213",
      "688d819eaa934cd3ab20f72aef0531d3",
      "c73860ffc7ad42e783189fbdcf60130b",
      "497be53eda19433e83d424301ff14668",
      "4c81c10f9140415cac6ea4ba0dc957d1",
      "f5bd7d6b514846c389cf3796998f3741",
      "e3488f7ce49e49d8a4eec6837391c879",
      "09066d2db31b409ca0086f746f6e9b95",
      "1e5db6b5bb654bdc874f26fab515da72",
      "ad9eafd28dc34d5cad4a3138cb016503",
      "4ca1eaa15bee4a6a86fc48be6fc04fcb",
      "b4844007bcc74eb5b13e54297d5e6ad5",
      "f36c69d454eb4bdebca203ac9820f06e",
      "914f1ac8978e4ed79f0d6d91d9e5cd97",
      "edf422edbab243988e5efcef4b961ced",
      "131d97eedc494b0789a91ce136e077c2",
      "842b888f24734136b5a77209878f3848",
      "5f310b732bd44313ab8300013500f77d",
      "23dd76adf5ef4a3292cbc6837179396e",
      "1b62fea6dbf943cc9a59413e06b92cfc",
      "b8561d54eedd465d9d348ca48a6489f6",
      "177f70338b6940d496706e54d9b272ce",
      "60821363041942af836c0c96f788f55c",
      "627ca2d932c34a37b1463c30b9826466",
      "f333be9ff70c44d9866e9fcd5ff7b5a8",
      "0b18655094844c7cabee146242070491",
      "12681b85378544f89efa4e8dc84cc511",
      "fdba972428cd4678b01811ed6909b4b0",
      "5643c74e10e94c30976b4c26cece3b05",
      "3da105dc54cc46ffaff42bd57c2a7a6a",
      "c8121161308347d3a53590e91ebc3a70",
      "96e458e7c84f4969a3261c2d101a5982",
      "937a9dc3dc8d428e84ce7a5b55f33672",
      "4ffee27294f14d9192ed1dad815274b7",
      "2de637b27a794f73807968a7d064129b",
      "5ea13bf798dc42d7a140b25a72b72cf6",
      "4d6c34771c534a09a52a9c79656738ed",
      "9df5e79794c1405d9414865e6b80df80",
      "91db59f192a94d2ea2771d2e791f46ae",
      "cc8edf6945714104bb28e35b2a519751",
      "fa095c0f09754b13bbf298c9f0d301db",
      "ae9c6f45378845a79a0ee90b3e56d0d3",
      "4e79b42fa2664dc88160ba9146c7aa89",
      "6265c1e344464d20b950642dd1cc94a2",
      "bdc504a9f2a54c0fb3a70f21a7037966",
      "ad233e024fd1404b91fe3351c44b48a3",
      "991c5486093e47d3ae17540bfbcb79da",
      "e0ed423a0d4f4d59bcd2ea3f45efb30b",
      "fc2bbee0046f4694bd0b16fce89a82b1"
     ]
    },
    "executionInfo": {
     "elapsed": 15161,
     "status": "ok",
     "timestamp": 1636416653270,
     "user": {
      "displayName": "이경임",
      "photoUrl": "https://lh3.googleusercontent.com/a/default-user=s64",
      "userId": "07956650643598079823"
     },
     "user_tz": -540
    },
    "id": "xRSPiG79RZm6",
    "outputId": "b6f463f2-5d5f-4732-bb40-3b24c998fa45"
   },
   "outputs": [],
   "source": [
    "tokenizer = AutoTokenizer.from_pretrained(model_name)\n",
    "model = AutoModelForQuestionAnswering.from_pretrained(OUTPUT_DIR+'/transformers/')"
   ]
  },
  {
   "cell_type": "code",
   "execution_count": null,
   "metadata": {
    "id": "HmH-yrwkUAJE"
   },
   "outputs": [],
   "source": []
  },
  {
   "cell_type": "markdown",
   "metadata": {
    "id": "L14X3nq7yKUC"
   },
   "source": [
    "# Save trained pytorch model to a tensorflow model"
   ]
  },
  {
   "cell_type": "code",
   "execution_count": null,
   "metadata": {
    "colab": {
     "base_uri": "https://localhost:8080/"
    },
    "executionInfo": {
     "elapsed": 2766,
     "status": "ok",
     "timestamp": 1636416656032,
     "user": {
      "displayName": "이경임",
      "photoUrl": "https://lh3.googleusercontent.com/a/default-user=s64",
      "userId": "07956650643598079823"
     },
     "user_tz": -540
    },
    "id": "B97yFW2oyFN4",
    "outputId": "513eeab2-6d75-4101-8e22-eb81b049b4e5"
   },
   "outputs": [],
   "source": [
    "!pip install onnx-tf"
   ]
  },
  {
   "cell_type": "code",
   "execution_count": null,
   "metadata": {
    "executionInfo": {
     "elapsed": 292,
     "status": "ok",
     "timestamp": 1636416688293,
     "user": {
      "displayName": "이경임",
      "photoUrl": "https://lh3.googleusercontent.com/a/default-user=s64",
      "userId": "07956650643598079823"
     },
     "user_tz": -540
    },
    "id": "jQELDRUjyHiP"
   },
   "outputs": [],
   "source": [
    "import onnx \n",
    "from onnx_tf.backend import prepare\n",
    "from torch.autograd import Variable\n",
    "\n",
    "print(onnx.__version__)"
   ]
  },
  {
   "cell_type": "markdown",
   "metadata": {},
   "source": [
    "Pytorch model -> onnx model"
   ]
  },
  {
   "cell_type": "code",
   "execution_count": null,
   "metadata": {},
   "outputs": [],
   "source": [
    "# torch.save(model.state_dict(), PATH+'/output/mnist.pth')"
   ]
  },
  {
   "cell_type": "code",
   "execution_count": null,
   "metadata": {
    "colab": {
     "base_uri": "https://localhost:8080/"
    },
    "executionInfo": {
     "elapsed": 5087,
     "status": "ok",
     "timestamp": 1636416989385,
     "user": {
      "displayName": "이경임",
      "photoUrl": "https://lh3.googleusercontent.com/a/default-user=s64",
      "userId": "07956650643598079823"
     },
     "user_tz": -540
    },
    "id": "IFyZ9CYqxnDF",
    "outputId": "84e92f8e-e076-4e49-c8fb-3345c750fcf8"
   },
   "outputs": [],
   "source": [
    "model.load_state_dict(torch.load(PATH+'/output/mnist.pth'))"
   ]
  },
  {
   "cell_type": "code",
   "execution_count": null,
   "metadata": {
    "executionInfo": {
     "elapsed": 7564,
     "status": "ok",
     "timestamp": 1636417170794,
     "user": {
      "displayName": "이경임",
      "photoUrl": "https://lh3.googleusercontent.com/a/default-user=s64",
      "userId": "07956650643598079823"
     },
     "user_tz": -540
    },
    "id": "3V9mBY41Dc6C"
   },
   "outputs": [],
   "source": [
    "# Dummy inputs\n",
    "encodings = tokenizer(\"이름은 무엇인가?\", \n",
    "                      \"안녕하세요 제 이름은 이경임입니다. 룰루랄라 랄라랄라\", \n",
    "                      max_length=510, \n",
    "                      truncation=True,\n",
    "                      padding=\"max_length\", \n",
    "                      return_token_type_ids=False)\n",
    "\n",
    "# Export the trained model to ONNX\n",
    "torch.onnx.export(model, \n",
    "                  (encodings['input_ids'], encodings['attention_mask']), \n",
    "                  PATH+\"/output/mnist.onnx\", \n",
    "                  opset_version=11)"
   ]
  },
  {
   "cell_type": "markdown",
   "metadata": {},
   "source": [
    "Onnx model -> Tensorflow model"
   ]
  },
  {
   "cell_type": "code",
   "execution_count": null,
   "metadata": {
    "executionInfo": {
     "elapsed": 10624,
     "status": "ok",
     "timestamp": 1636417202128,
     "user": {
      "displayName": "이경임",
      "photoUrl": "https://lh3.googleusercontent.com/a/default-user=s64",
      "userId": "07956650643598079823"
     },
     "user_tz": -540
    },
    "id": "F0dEbrIVxwbr"
   },
   "outputs": [],
   "source": [
    "model = onnx.load(PATH+'/output/mnist.onnx')\n",
    "\n",
    "# Import the ONNX model to Tensorflow\n",
    "tf_rep = prepare(model)"
   ]
  },
  {
   "cell_type": "code",
   "execution_count": null,
   "metadata": {
    "colab": {
     "base_uri": "https://localhost:8080/"
    },
    "executionInfo": {
     "elapsed": 16285,
     "status": "ok",
     "timestamp": 1636417245648,
     "user": {
      "displayName": "이경임",
      "photoUrl": "https://lh3.googleusercontent.com/a/default-user=s64",
      "userId": "07956650643598079823"
     },
     "user_tz": -540
    },
    "id": "hQmL97XJxwIv",
    "outputId": "3feff532-2655-4b52-f87e-069d12b615d9"
   },
   "outputs": [],
   "source": [
    "tf_rep.export_graph(PATH+'/output/mnist.pb')"
   ]
  },
  {
   "cell_type": "markdown",
   "metadata": {
    "id": "7ZCEUbLBUCAF"
   },
   "source": [
    "# 성능 측정"
   ]
  },
  {
   "cell_type": "markdown",
   "metadata": {
    "id": "vEZNcHbJ9s6b"
   },
   "source": [
    "예측함수"
   ]
  },
  {
   "cell_type": "code",
   "execution_count": 39,
   "metadata": {
    "id": "t-LdWdesUDoi"
   },
   "outputs": [],
   "source": [
    "def _prediction(contexts, questions):\n",
    "    result = []\n",
    "    \n",
    "    with torch.no_grad():\n",
    "        for context, question in tqdm(zip(contexts, questions)):\n",
    "            # print(context, question)\n",
    "            encodings = tokenizer(question, \n",
    "                                  context, \n",
    "                                  max_length=510, \n",
    "                                  truncation=True,\n",
    "                                  padding=\"max_length\", \n",
    "                                  return_token_type_ids=False)\n",
    "            encodings = {key: torch.tensor([val]) for key, val in encodings.items()}\n",
    "            \n",
    "            input_ids = encodings[\"input_ids\"]\n",
    "            attention_mask = encodings[\"attention_mask\"]\n",
    "            # print(input_ids, attention_mask)\n",
    "            outputs = model(input_ids, attention_mask=attention_mask)\n",
    "            start_logits, end_logits = outputs[0], outputs[1]\n",
    "            token_start_index, token_end_index = start_logits.argmax(dim=-1), end_logits.argmax(dim=-1)\n",
    "            pred_ids = input_ids[0][token_start_index: token_end_index + 1]\n",
    "            pred = tokenizer.decode(pred_ids)\n",
    "            # print(pred)\n",
    "            result.append(pred)\n",
    "\n",
    "    return result\n",
    "\n",
    "def prediction(contexts, questions):\n",
    "    result = []\n",
    "    \n",
    "    with torch.no_grad():\n",
    "        for context, question in tqdm(zip(contexts, questions)):\n",
    "            # print(context, question)\n",
    "            encodings = tokenizer(question, \n",
    "                                  context, \n",
    "                                 return_tensors=\"pt\",\n",
    "                                 padding=True,\n",
    "                                 truncation=True)\n",
    "#             encodings = {key: torch.tensor([val]) for key, val in encodings.items()}\n",
    "            \n",
    "            input_ids = encodings[\"input_ids\"]\n",
    "            token_type_ids = encodings[\"token_type_ids\"]\n",
    "            attention_mask = encodings[\"attention_mask\"]\n",
    "            \n",
    "            outputs = model(input_ids=input_ids,token_type_ids=token_type_ids,attention_mask=attention_mask)\n",
    "\n",
    "            start_logits, end_logits = outputs[0], outputs[1]\n",
    "            token_start_index, token_end_index = start_logits.argmax(dim=-1), end_logits.argmax(dim=-1)\n",
    "            pred = tokenizer.convert_tokens_to_string(tokenizer.convert_ids_to_tokens(encodings[\"input_ids\"][0][token_start_index: token_end_index + 1]))\n",
    "            pred = pred.replace(\"#\",\"\")\n",
    "            result.append(pred)\n",
    "\n",
    "    return result"
   ]
  },
  {
   "cell_type": "code",
   "execution_count": 28,
   "metadata": {
    "id": "7ug9kWPLytlK"
   },
   "outputs": [
    {
     "name": "stdout",
     "output_type": "stream",
     "text": [
      "\\WRONG [100] ===============================>\n",
      "[0, 1, 2, 3, 4, 5, 6, 7, 8, 9, 10, 11, 12, 13, 14, 15, 16, 17, 18, 19, 20, 21, 22, 23, 24, 25, 26, 27, 28, 29, 30, 31, 32, 33, 34, 35, 36, 37, 38, 39, 40, 41, 42, 43, 44, 45, 46, 47, 48, 49, 50, 51, 52, 53, 54, 55, 56, 57, 58, 59, 60, 61, 62, 63, 64, 65, 66, 67, 68, 69, 70, 71, 72, 73, 74, 75, 76, 77, 78, 79, 80, 81, 82, 83, 84, 85, 86, 87, 88, 89, 90, 91, 92, 93, 94, 95, 96, 97, 98, 99]\n"
     ]
    }
   ],
   "source": [
    "def print_prds(ctx, qus, prds):\n",
    "  wrong_prds = []\n",
    "  for i, prd in enumerate(prds):\n",
    "    if prd != '' and prd != '[CLS]':\n",
    "      print(f'\\nSAMPLE [{i}] ===============================>')\n",
    "      display(ctx[i][:400])\n",
    "      print(f'\\nQUESTION ===============> ', qus[i])\n",
    "      print(f'PREDICTED ANSWER =======> ', prd)\n",
    "    else:\n",
    "      wrong_prds.append(i)\n",
    "  \n",
    "  print(f'\\WRONG [{len(wrong_prds)}] ===============================>')\n",
    "  print(wrong_prds)\n",
    "\n",
    "print_prds(ctx, qus, prds)"
   ]
  },
  {
   "cell_type": "markdown",
   "metadata": {
    "id": "YYbJLveS9x9J"
   },
   "source": [
    "F1 Score, EM Score"
   ]
  },
  {
   "cell_type": "code",
   "execution_count": 3,
   "metadata": {
    "id": "8neIkK-v92m1"
   },
   "outputs": [],
   "source": [
    "def normalize_answer(sentence):\n",
    "  ret = re.sub('[-=+,#/\\:^$@*\\\"※~&%ㆍ!』\\\\‘|\\(\\)\\[\\]\\<\\>`\\'…》]', '', sentence) # 특수문자 제거\n",
    "  ret = re.sub(r'[\\n\\r\\t]+', ' ', sentence) # 개행문자 제거\n",
    "  ret = ret.strip() # 양쪽공백 제거\n",
    "  return ret\n",
    "\n",
    "def get_tokens(s):\n",
    "  if not s: return []\n",
    "  return normalize_answer(s).split()\n",
    "\n",
    "def compute_exact(a_gold, a_pred):\n",
    "  return int(normalize_answer(a_gold) == normalize_answer(a_pred))\n",
    "\n",
    "def compute_f1(a_gold, a_pred):\n",
    "  gold_toks = get_tokens(a_gold)\n",
    "  pred_toks = get_tokens(a_pred)\n",
    "  common = collections.Counter(gold_toks) & collections.Counter(pred_toks)\n",
    "  num_same = sum(common.values())\n",
    "  if len(gold_toks) == 0 or len(pred_toks) == 0:\n",
    "    # If either is no-answer, then F1 is 1 if they agree, 0 otherwise\n",
    "    return int(gold_toks == pred_toks)\n",
    "  if num_same == 0:\n",
    "    return 0\n",
    "  precision = 1.0 * num_same / len(pred_toks)\n",
    "  recall = 1.0 * num_same / len(gold_toks)\n",
    "  f1 = (2 * precision * recall) / (precision + recall)\n",
    "  return f1\n"
   ]
  },
  {
   "cell_type": "code",
   "execution_count": 34,
   "metadata": {
    "id": "Fz9BmB73_quB"
   },
   "outputs": [],
   "source": [
    "x_valid = pd.read_csv('/home/ubuntu/2021AiHub-ODQA/models/x_valid_light.csv')"
   ]
  },
  {
   "cell_type": "code",
   "execution_count": 35,
   "metadata": {
    "id": "p2kqdNrXyq10"
   },
   "outputs": [],
   "source": [
    "ctx = x_valid['text'].tolist()\n",
    "qus = x_valid['question'].tolist()\n",
    "ans = x_valid['answer'].tolist()"
   ]
  },
  {
   "cell_type": "code",
   "execution_count": 36,
   "metadata": {},
   "outputs": [],
   "source": [
    "stpos, endpos = 10, 12"
   ]
  },
  {
   "cell_type": "code",
   "execution_count": 40,
   "metadata": {
    "colab": {
     "base_uri": "https://localhost:8080/"
    },
    "executionInfo": {
     "elapsed": 1006535,
     "status": "ok",
     "timestamp": 1636333457538,
     "user": {
      "displayName": "이경임",
      "photoUrl": "https://lh3.googleusercontent.com/a/default-user=s64",
      "userId": "07956650643598079823"
     },
     "user_tz": -540
    },
    "id": "uDADhNg_A3Si",
    "outputId": "fd328e35-b540-4da3-ed65-ab67bab9ad78"
   },
   "outputs": [
    {
     "name": "stderr",
     "output_type": "stream",
     "text": [
      "2it [00:02,  1.25s/it]\n"
     ]
    }
   ],
   "source": [
    "prds = prediction(ctx[stpos:endpos], qus[stpos:endpos])"
   ]
  },
  {
   "cell_type": "code",
   "execution_count": 41,
   "metadata": {
    "colab": {
     "base_uri": "https://localhost:8080/"
    },
    "executionInfo": {
     "elapsed": 368,
     "status": "ok",
     "timestamp": 1636335315693,
     "user": {
      "displayName": "이경임",
      "photoUrl": "https://lh3.googleusercontent.com/a/default-user=s64",
      "userId": "07956650643598079823"
     },
     "user_tz": -540
    },
    "id": "eg5T0_weKdcA",
    "outputId": "25519135-7045-4f45-9669-2a624a116030"
   },
   "outputs": [
    {
     "data": {
      "text/plain": [
       "(['상류층의 의상과 대중들의 의상의 경계가 확실했던 대립관계의 경계가 해체되기 시작한 계기는 무엇인가?',\n",
       "  '자기주도 학습이란?',\n",
       "  '단색 배색은 무엇인가?',\n",
       "  '사고선박의 저항은 어떻게 계산하는가?',\n",
       "  '치수 및 형태가 적합한 장갑의 착용은 보호 장구로서의 역할을 하지만 부적절하게 설계된 장갑은 사용시 어떤 문제점을 가지는가?',\n",
       "  '에너지진단이란 무엇인가?',\n",
       "  '정부가 학교폭력 근절 종합대책을 발표하게 된 계기로 어떤 사건이 있었나요?',\n",
       "  '단안 영상을 통해 3 차원의 입체 영상을 생성하기 위한 관련 연구에는 무엇이 있는가?',\n",
       "  '암호기술은 어디에 사용되는가?',\n",
       "  '에너지 관련 프로토콜에는 무엇이 있는가?',\n",
       "  '하천식생은 어떤 역할을 하는가?',\n",
       "  '열전소재에는 무엇이 있는가?'],\n",
       " [])"
      ]
     },
     "execution_count": 41,
     "metadata": {},
     "output_type": "execute_result"
    }
   ],
   "source": [
    "qus[:12], prds[stpos:endpos]"
   ]
  },
  {
   "cell_type": "code",
   "execution_count": 25,
   "metadata": {},
   "outputs": [
    {
     "data": {
      "text/plain": [
       "['[CLS]',\n",
       " '[CLS]',\n",
       " '[CLS]',\n",
       " '[CLS]',\n",
       " '[CLS]',\n",
       " '[CLS]',\n",
       " '[CLS]',\n",
       " '[CLS]',\n",
       " '[CLS]',\n",
       " '[CLS]']"
      ]
     },
     "execution_count": 25,
     "metadata": {},
     "output_type": "execute_result"
    }
   ],
   "source": [
    "prds[:10]"
   ]
  },
  {
   "cell_type": "code",
   "execution_count": null,
   "metadata": {
    "colab": {
     "base_uri": "https://localhost:8080/"
    },
    "executionInfo": {
     "elapsed": 410,
     "status": "ok",
     "timestamp": 1636333473800,
     "user": {
      "displayName": "이경임",
      "photoUrl": "https://lh3.googleusercontent.com/a/default-user=s64",
      "userId": "07956650643598079823"
     },
     "user_tz": -540
    },
    "id": "fNVeonhU94hc",
    "outputId": "83ee4823-32bd-4aa0-8219-333fc98dbeb4"
   },
   "outputs": [],
   "source": [
    "_len, f1scores, emscores = len(prds), [], []\n",
    "for i in tqdm(range(_len)):\n",
    "  f1scores.append(compute_f1(ans[i], prds[i]))\n",
    "  emscores.append(compute_exact(ans[i], prds[i]))"
   ]
  },
  {
   "cell_type": "code",
   "execution_count": null,
   "metadata": {
    "colab": {
     "base_uri": "https://localhost:8080/"
    },
    "executionInfo": {
     "elapsed": 513,
     "status": "ok",
     "timestamp": 1636333788377,
     "user": {
      "displayName": "이경임",
      "photoUrl": "https://lh3.googleusercontent.com/a/default-user=s64",
      "userId": "07956650643598079823"
     },
     "user_tz": -540
    },
    "id": "NbHtT13G94bM",
    "outputId": "83f5a2d6-28e1-4730-a687-b5be64f2a3fd"
   },
   "outputs": [],
   "source": [
    "scores = [0, 0]\n",
    "for i in range(_len):\n",
    "  scores[0] += f1scores[i]\n",
    "  scores[1] += emscores[i]\n",
    "\n",
    "print(f'[Calculated Scores for {_len} data]')\n",
    "print(f'===> F1: {scores[0]/_len}, EM: {scores[1]/_len}')"
   ]
  },
  {
   "cell_type": "markdown",
   "metadata": {
    "id": "apeTKoPtCqLI"
   },
   "source": [
    "# Backups"
   ]
  },
  {
   "cell_type": "code",
   "execution_count": null,
   "metadata": {
    "id": "_nEYxTYl6aGO"
   },
   "outputs": [],
   "source": [
    "\"\"\"Official evaluation script for SQuAD version 2.0.\n",
    "\n",
    "In addition to basic functionality, we also compute additional statistics and\n",
    "plot precision-recall curves if an additional na_prob.json file is provided.\n",
    "This file is expected to map question ID's to the model's predicted probability\n",
    "that a question is unanswerable.\n",
    "\"\"\"\n",
    "import argparse\n",
    "import collections\n",
    "import json\n",
    "import numpy as np\n",
    "import os\n",
    "import re\n",
    "import string\n",
    "import sys\n",
    "\n",
    "OPTS = None\n",
    "\n",
    "def make_qid_to_has_ans(dataset):\n",
    "  qid_to_has_ans = {}\n",
    "  for article in dataset:\n",
    "    for p in article['paragraphs']:\n",
    "      for qa in p['qas']:\n",
    "        qid_to_has_ans[qa['id']] = bool(qa['answers'])\n",
    "  return qid_to_has_ans\n",
    "\n",
    "def normalize_answer(s):\n",
    "  \"\"\"Lower text and remove punctuation, articles and extra whitespace.\"\"\"\n",
    "  def remove_articles(text):\n",
    "    regex = re.compile(r'\\b(a|an|the)\\b', re.UNICODE)\n",
    "    return re.sub(regex, ' ', text)\n",
    "  def white_space_fix(text):\n",
    "    return ' '.join(text.split())\n",
    "  def remove_punc(text):\n",
    "    exclude = set(string.punctuation)\n",
    "    return ''.join(ch for ch in text if ch not in exclude)\n",
    "  def lower(text):\n",
    "    return text.lower()\n",
    "  return white_space_fix(remove_articles(remove_punc(lower(s))))\n",
    "\n",
    "def get_tokens(s):\n",
    "  if not s: return []\n",
    "  return normalize_answer(s).split()\n",
    "\n",
    "def compute_exact(a_gold, a_pred):\n",
    "  return int(normalize_answer(a_gold) == normalize_answer(a_pred))\n",
    "\n",
    "def compute_f1(a_gold, a_pred):\n",
    "  gold_toks = get_tokens(a_gold)\n",
    "  pred_toks = get_tokens(a_pred)\n",
    "  common = collections.Counter(gold_toks) & collections.Counter(pred_toks)\n",
    "  num_same = sum(common.values())\n",
    "  if len(gold_toks) == 0 or len(pred_toks) == 0:\n",
    "    # If either is no-answer, then F1 is 1 if they agree, 0 otherwise\n",
    "    return int(gold_toks == pred_toks)\n",
    "  if num_same == 0:\n",
    "    return 0\n",
    "  precision = 1.0 * num_same / len(pred_toks)\n",
    "  recall = 1.0 * num_same / len(gold_toks)\n",
    "  f1 = (2 * precision * recall) / (precision + recall)\n",
    "  return f1\n",
    "\n",
    "def get_raw_scores(dataset, preds):\n",
    "  exact_scores = {}\n",
    "  f1_scores = {}\n",
    "  for article in dataset:\n",
    "    for p in article['paragraphs']:\n",
    "      for qa in p['qas']:\n",
    "        qid = qa['id']\n",
    "        gold_answers = [a['text'] for a in qa['answers']\n",
    "                        if normalize_answer(a['text'])]\n",
    "        if not gold_answers:\n",
    "          # For unanswerable questions, only correct answer is empty string\n",
    "          gold_answers = ['']\n",
    "        if qid not in preds:\n",
    "          print('Missing prediction for %s' % qid)\n",
    "          continue\n",
    "        a_pred = preds[qid]\n",
    "        # Take max over all gold answers\n",
    "        exact_scores[qid] = max(compute_exact(a, a_pred) for a in gold_answers)\n",
    "        f1_scores[qid] = max(compute_f1(a, a_pred) for a in gold_answers)\n",
    "  return exact_scores, f1_scores\n",
    "\n",
    "def apply_no_ans_threshold(scores, na_probs, qid_to_has_ans, na_prob_thresh):\n",
    "  new_scores = {}\n",
    "  for qid, s in scores.items():\n",
    "    pred_na = na_probs[qid] > na_prob_thresh\n",
    "    if pred_na:\n",
    "      new_scores[qid] = float(not qid_to_has_ans[qid])\n",
    "    else:\n",
    "      new_scores[qid] = s\n",
    "  return new_scores\n",
    "\n",
    "def make_eval_dict(exact_scores, f1_scores, qid_list=None):\n",
    "  if not qid_list:\n",
    "    total = len(exact_scores)\n",
    "    return collections.OrderedDict([\n",
    "        ('exact', 100.0 * sum(exact_scores.values()) / total),\n",
    "        ('f1', 100.0 * sum(f1_scores.values()) / total),\n",
    "        ('total', total),\n",
    "    ])\n",
    "  else:\n",
    "    total = len(qid_list)\n",
    "    return collections.OrderedDict([\n",
    "        ('exact', 100.0 * sum(exact_scores[k] for k in qid_list) / total),\n",
    "        ('f1', 100.0 * sum(f1_scores[k] for k in qid_list) / total),\n",
    "        ('total', total),\n",
    "    ])\n",
    "\n",
    "def merge_eval(main_eval, new_eval, prefix):\n",
    "  for k in new_eval:\n",
    "    main_eval['%s_%s' % (prefix, k)] = new_eval[k]\n",
    "\n",
    "def plot_pr_curve(precisions, recalls, out_image, title):\n",
    "  plt.step(recalls, precisions, color='b', alpha=0.2, where='post')\n",
    "  plt.fill_between(recalls, precisions, step='post', alpha=0.2, color='b')\n",
    "  plt.xlabel('Recall')\n",
    "  plt.ylabel('Precision')\n",
    "  plt.xlim([0.0, 1.05])\n",
    "  plt.ylim([0.0, 1.05])\n",
    "  plt.title(title)\n",
    "  plt.savefig(out_image)\n",
    "  plt.clf()\n",
    "\n",
    "def make_precision_recall_eval(scores, na_probs, num_true_pos, qid_to_has_ans,\n",
    "                               out_image=None, title=None):\n",
    "  qid_list = sorted(na_probs, key=lambda k: na_probs[k])\n",
    "  true_pos = 0.0\n",
    "  cur_p = 1.0\n",
    "  cur_r = 0.0\n",
    "  precisions = [1.0]\n",
    "  recalls = [0.0]\n",
    "  avg_prec = 0.0\n",
    "  for i, qid in enumerate(qid_list):\n",
    "    if qid_to_has_ans[qid]:\n",
    "      true_pos += scores[qid]\n",
    "    cur_p = true_pos / float(i+1)\n",
    "    cur_r = true_pos / float(num_true_pos)\n",
    "    if i == len(qid_list) - 1 or na_probs[qid] != na_probs[qid_list[i+1]]:\n",
    "      # i.e., if we can put a threshold after this point\n",
    "      avg_prec += cur_p * (cur_r - recalls[-1])\n",
    "      precisions.append(cur_p)\n",
    "      recalls.append(cur_r)\n",
    "  if out_image:\n",
    "    plot_pr_curve(precisions, recalls, out_image, title)\n",
    "  return {'ap': 100.0 * avg_prec}\n",
    "\n",
    "def run_precision_recall_analysis(main_eval, exact_raw, f1_raw, na_probs, \n",
    "                                  qid_to_has_ans, out_image_dir):\n",
    "  if out_image_dir and not os.path.exists(out_image_dir):\n",
    "    os.makedirs(out_image_dir)\n",
    "  num_true_pos = sum(1 for v in qid_to_has_ans.values() if v)\n",
    "  if num_true_pos == 0:\n",
    "    return\n",
    "  pr_exact = make_precision_recall_eval(\n",
    "      exact_raw, na_probs, num_true_pos, qid_to_has_ans,\n",
    "      out_image=os.path.join(out_image_dir, 'pr_exact.png'),\n",
    "      title='Precision-Recall curve for Exact Match score')\n",
    "  pr_f1 = make_precision_recall_eval(\n",
    "      f1_raw, na_probs, num_true_pos, qid_to_has_ans,\n",
    "      out_image=os.path.join(out_image_dir, 'pr_f1.png'),\n",
    "      title='Precision-Recall curve for F1 score')\n",
    "  oracle_scores = {k: float(v) for k, v in qid_to_has_ans.items()}\n",
    "  pr_oracle = make_precision_recall_eval(\n",
    "      oracle_scores, na_probs, num_true_pos, qid_to_has_ans,\n",
    "      out_image=os.path.join(out_image_dir, 'pr_oracle.png'),\n",
    "      title='Oracle Precision-Recall curve (binary task of HasAns vs. NoAns)')\n",
    "  merge_eval(main_eval, pr_exact, 'pr_exact')\n",
    "  merge_eval(main_eval, pr_f1, 'pr_f1')\n",
    "  merge_eval(main_eval, pr_oracle, 'pr_oracle')\n",
    "\n",
    "def histogram_na_prob(na_probs, qid_list, image_dir, name):\n",
    "  if not qid_list:\n",
    "    return\n",
    "  x = [na_probs[k] for k in qid_list]\n",
    "  weights = np.ones_like(x) / float(len(x))\n",
    "  plt.hist(x, weights=weights, bins=20, range=(0.0, 1.0))\n",
    "  plt.xlabel('Model probability of no-answer')\n",
    "  plt.ylabel('Proportion of dataset')\n",
    "  plt.title('Histogram of no-answer probability: %s' % name)\n",
    "  plt.savefig(os.path.join(image_dir, 'na_prob_hist_%s.png' % name))\n",
    "  plt.clf()\n",
    "\n",
    "def find_best_thresh(preds, scores, na_probs, qid_to_has_ans):\n",
    "  num_no_ans = sum(1 for k in qid_to_has_ans if not qid_to_has_ans[k])\n",
    "  cur_score = num_no_ans\n",
    "  best_score = cur_score\n",
    "  best_thresh = 0.0\n",
    "  qid_list = sorted(na_probs, key=lambda k: na_probs[k])\n",
    "  for i, qid in enumerate(qid_list):\n",
    "    if qid not in scores: continue\n",
    "    if qid_to_has_ans[qid]:\n",
    "      diff = scores[qid]\n",
    "    else:\n",
    "      if preds[qid]:\n",
    "        diff = -1\n",
    "      else:\n",
    "        diff = 0\n",
    "    cur_score += diff\n",
    "    if cur_score > best_score:\n",
    "      best_score = cur_score\n",
    "      best_thresh = na_probs[qid]\n",
    "  return 100.0 * best_score / len(scores), best_thresh\n",
    "\n",
    "def find_all_best_thresh(main_eval, preds, exact_raw, f1_raw, na_probs, qid_to_has_ans):\n",
    "  best_exact, exact_thresh = find_best_thresh(preds, exact_raw, na_probs, qid_to_has_ans)\n",
    "  best_f1, f1_thresh = find_best_thresh(preds, f1_raw, na_probs, qid_to_has_ans)\n",
    "  main_eval['best_exact'] = best_exact\n",
    "  main_eval['best_exact_thresh'] = exact_thresh\n",
    "  main_eval['best_f1'] = best_f1\n",
    "  main_eval['best_f1_thresh'] = f1_thresh\n",
    "\n",
    "def main():\n",
    "  with open(OPTS.data_file) as f:\n",
    "    dataset_json = json.load(f)\n",
    "    dataset = dataset_json['data']\n",
    "  with open(OPTS.pred_file) as f:\n",
    "    preds = json.load(f)\n",
    "  if OPTS.na_prob_file:\n",
    "    with open(OPTS.na_prob_file) as f:\n",
    "      na_probs = json.load(f)\n",
    "  else:\n",
    "    na_probs = {k: 0.0 for k in preds}\n",
    "  qid_to_has_ans = make_qid_to_has_ans(dataset)  # maps qid to True/False\n",
    "  has_ans_qids = [k for k, v in qid_to_has_ans.items() if v]\n",
    "  no_ans_qids = [k for k, v in qid_to_has_ans.items() if not v]\n",
    "  exact_raw, f1_raw = get_raw_scores(dataset, preds)\n",
    "  exact_thresh = apply_no_ans_threshold(exact_raw, na_probs, qid_to_has_ans,\n",
    "                                        OPTS.na_prob_thresh)\n",
    "  f1_thresh = apply_no_ans_threshold(f1_raw, na_probs, qid_to_has_ans,\n",
    "                                     OPTS.na_prob_thresh)\n",
    "  out_eval = make_eval_dict(exact_thresh, f1_thresh)\n",
    "  if has_ans_qids:\n",
    "    has_ans_eval = make_eval_dict(exact_thresh, f1_thresh, qid_list=has_ans_qids)\n",
    "    merge_eval(out_eval, has_ans_eval, 'HasAns')\n",
    "  if no_ans_qids:\n",
    "    no_ans_eval = make_eval_dict(exact_thresh, f1_thresh, qid_list=no_ans_qids)\n",
    "    merge_eval(out_eval, no_ans_eval, 'NoAns')\n",
    "  if OPTS.na_prob_file:\n",
    "    find_all_best_thresh(out_eval, preds, exact_raw, f1_raw, na_probs, qid_to_has_ans)\n",
    "  if OPTS.na_prob_file and OPTS.out_image_dir:\n",
    "    run_precision_recall_analysis(out_eval, exact_raw, f1_raw, na_probs, \n",
    "                                  qid_to_has_ans, OPTS.out_image_dir)\n",
    "    histogram_na_prob(na_probs, has_ans_qids, OPTS.out_image_dir, 'hasAns')\n",
    "    histogram_na_prob(na_probs, no_ans_qids, OPTS.out_image_dir, 'noAns')\n",
    "  if OPTS.out_file:\n",
    "    with open(OPTS.out_file, 'w') as f:\n",
    "      json.dump(out_eval, f)\n",
    "  else:\n",
    "    print(json.dumps(out_eval, indent=2))\n"
   ]
  },
  {
   "cell_type": "code",
   "execution_count": null,
   "metadata": {
    "id": "2sH1ZnJhIqmR"
   },
   "outputs": [],
   "source": [
    "train_full_raw = pd.read_csv('train_full_raw.csv')"
   ]
  },
  {
   "cell_type": "code",
   "execution_count": null,
   "metadata": {
    "colab": {
     "base_uri": "https://localhost:8080/"
    },
    "executionInfo": {
     "elapsed": 410,
     "status": "ok",
     "timestamp": 1636336594297,
     "user": {
      "displayName": "이경임",
      "photoUrl": "https://lh3.googleusercontent.com/a/default-user=s64",
      "userId": "07956650643598079823"
     },
     "user_tz": -540
    },
    "id": "7TQwefCEQs_o",
    "outputId": "27d1f505-0c3e-45f7-f0ac-dd31c3cd1328"
   },
   "outputs": [],
   "source": [
    "train_full_raw.keys()"
   ]
  },
  {
   "cell_type": "code",
   "execution_count": null,
   "metadata": {
    "colab": {
     "base_uri": "https://localhost:8080/"
    },
    "executionInfo": {
     "elapsed": 512,
     "status": "ok",
     "timestamp": 1636336650619,
     "user": {
      "displayName": "이경임",
      "photoUrl": "https://lh3.googleusercontent.com/a/default-user=s64",
      "userId": "07956650643598079823"
     },
     "user_tz": -540
    },
    "id": "55_z39if8o24",
    "outputId": "c9b958d0-76e9-4ee7-99ec-48ec7bae3d21"
   },
   "outputs": [],
   "source": [
    "# train_full_raw[train_full_raw['context'].apply(lambda x : '부부별산제' in x)]\n",
    "train_full_raw[train_full_raw['context'].apply(lambda x : len(x) > 10000)].index"
   ]
  },
  {
   "cell_type": "code",
   "execution_count": null,
   "metadata": {
    "id": "EUny6npmMmuy"
   },
   "outputs": [],
   "source": [
    "idx = 512\n",
    "samplet, sampleq, samplea = train_full_raw.iloc[idx]['context'], train_full_raw.iloc[idx]['question'], train_full_raw.iloc[idx]['answer']\n",
    "txtlen = len(samplet)"
   ]
  },
  {
   "cell_type": "code",
   "execution_count": null,
   "metadata": {
    "colab": {
     "base_uri": "https://localhost:8080/"
    },
    "executionInfo": {
     "elapsed": 20799,
     "status": "ok",
     "timestamp": 1636336697430,
     "user": {
      "displayName": "이경임",
      "photoUrl": "https://lh3.googleusercontent.com/a/default-user=s64",
      "userId": "07956650643598079823"
     },
     "user_tz": -540
    },
    "id": "GieJCV1JJKdk",
    "outputId": "2c13041f-89e4-4e57-8d8e-c771cd98b3c3"
   },
   "outputs": [],
   "source": [
    "start, offset, padding = 0, 1500, 300\n",
    "end = start + offset\n",
    "print(sampleq)\n",
    "while True:\n",
    "  if start > txtlen:\n",
    "    break\n",
    "  # print(samplet[start:end])\n",
    "  print(f'[PRED] {prediction([samplet[start:end]], [sampleq])}')\n",
    "  start = start + offset - padding\n",
    "  end = start + offset"
   ]
  },
  {
   "cell_type": "code",
   "execution_count": null,
   "metadata": {
    "colab": {
     "base_uri": "https://localhost:8080/"
    },
    "executionInfo": {
     "elapsed": 2526,
     "status": "ok",
     "timestamp": 1636336667413,
     "user": {
      "displayName": "이경임",
      "photoUrl": "https://lh3.googleusercontent.com/a/default-user=s64",
      "userId": "07956650643598079823"
     },
     "user_tz": -540
    },
    "id": "eO51BwUVJ1Vd",
    "outputId": "02a7afdd-77bc-4090-b2b2-9c5406f4550a"
   },
   "outputs": [],
   "source": [
    "prediction([samplet], [sampleq])"
   ]
  },
  {
   "cell_type": "code",
   "execution_count": null,
   "metadata": {
    "colab": {
     "base_uri": "https://localhost:8080/",
     "height": 52
    },
    "executionInfo": {
     "elapsed": 515,
     "status": "ok",
     "timestamp": 1636336700495,
     "user": {
      "displayName": "이경임",
      "photoUrl": "https://lh3.googleusercontent.com/a/default-user=s64",
      "userId": "07956650643598079823"
     },
     "user_tz": -540
    },
    "id": "HQ_IIVNZOJDr",
    "outputId": "3d99a5d8-f723-4727-f821-6dcead53a5cf"
   },
   "outputs": [],
   "source": [
    "samplea"
   ]
  },
  {
   "cell_type": "code",
   "execution_count": null,
   "metadata": {
    "id": "iVVJBDHtP-DG"
   },
   "outputs": [],
   "source": []
  }
 ],
 "metadata": {
  "accelerator": "GPU",
  "colab": {
   "authorship_tag": "ABX9TyNuJdwmQ5eFZthV3B0hxaUZ",
   "collapsed_sections": [
    "18Li15c8MyYZ",
    "apeTKoPtCqLI"
   ],
   "machine_shape": "hm",
   "mount_file_id": "1tGPPoPEIm4Ekfu00rUDGJ2FPCFQszU7_",
   "name": "2021AiHubCompetition_v1.ipynb",
   "provenance": []
  },
  "kernelspec": {
   "display_name": "Python 3 (ipykernel)",
   "language": "python",
   "name": "python3"
  },
  "language_info": {
   "codemirror_mode": {
    "name": "ipython",
    "version": 3
   },
   "file_extension": ".py",
   "mimetype": "text/x-python",
   "name": "python",
   "nbconvert_exporter": "python",
   "pygments_lexer": "ipython3",
   "version": "3.8.10"
  },
  "widgets": {
   "application/vnd.jupyter.widget-state+json": {
    "09066d2db31b409ca0086f746f6e9b95": {
     "model_module": "@jupyter-widgets/controls",
     "model_module_version": "1.5.0",
     "model_name": "HTMLModel",
     "state": {
      "_dom_classes": [],
      "_model_module": "@jupyter-widgets/controls",
      "_model_module_version": "1.5.0",
      "_model_name": "HTMLModel",
      "_view_count": null,
      "_view_module": "@jupyter-widgets/controls",
      "_view_module_version": "1.5.0",
      "_view_name": "HTMLView",
      "description": "",
      "description_tooltip": null,
      "layout": "IPY_MODEL_b4844007bcc74eb5b13e54297d5e6ad5",
      "placeholder": "​",
      "style": "IPY_MODEL_4ca1eaa15bee4a6a86fc48be6fc04fcb",
      "value": "Downloading: 100%"
     }
    },
    "0b18655094844c7cabee146242070491": {
     "model_module": "@jupyter-widgets/controls",
     "model_module_version": "1.5.0",
     "model_name": "DescriptionStyleModel",
     "state": {
      "_model_module": "@jupyter-widgets/controls",
      "_model_module_version": "1.5.0",
      "_model_name": "DescriptionStyleModel",
      "_view_count": null,
      "_view_module": "@jupyter-widgets/base",
      "_view_module_version": "1.2.0",
      "_view_name": "StyleView",
      "description_width": ""
     }
    },
    "12681b85378544f89efa4e8dc84cc511": {
     "model_module": "@jupyter-widgets/base",
     "model_module_version": "1.2.0",
     "model_name": "LayoutModel",
     "state": {
      "_model_module": "@jupyter-widgets/base",
      "_model_module_version": "1.2.0",
      "_model_name": "LayoutModel",
      "_view_count": null,
      "_view_module": "@jupyter-widgets/base",
      "_view_module_version": "1.2.0",
      "_view_name": "LayoutView",
      "align_content": null,
      "align_items": null,
      "align_self": null,
      "border": null,
      "bottom": null,
      "display": null,
      "flex": null,
      "flex_flow": null,
      "grid_area": null,
      "grid_auto_columns": null,
      "grid_auto_flow": null,
      "grid_auto_rows": null,
      "grid_column": null,
      "grid_gap": null,
      "grid_row": null,
      "grid_template_areas": null,
      "grid_template_columns": null,
      "grid_template_rows": null,
      "height": null,
      "justify_content": null,
      "justify_items": null,
      "left": null,
      "margin": null,
      "max_height": null,
      "max_width": null,
      "min_height": null,
      "min_width": null,
      "object_fit": null,
      "object_position": null,
      "order": null,
      "overflow": null,
      "overflow_x": null,
      "overflow_y": null,
      "padding": null,
      "right": null,
      "top": null,
      "visibility": null,
      "width": null
     }
    },
    "131d97eedc494b0789a91ce136e077c2": {
     "model_module": "@jupyter-widgets/base",
     "model_module_version": "1.2.0",
     "model_name": "LayoutModel",
     "state": {
      "_model_module": "@jupyter-widgets/base",
      "_model_module_version": "1.2.0",
      "_model_name": "LayoutModel",
      "_view_count": null,
      "_view_module": "@jupyter-widgets/base",
      "_view_module_version": "1.2.0",
      "_view_name": "LayoutView",
      "align_content": null,
      "align_items": null,
      "align_self": null,
      "border": null,
      "bottom": null,
      "display": null,
      "flex": null,
      "flex_flow": null,
      "grid_area": null,
      "grid_auto_columns": null,
      "grid_auto_flow": null,
      "grid_auto_rows": null,
      "grid_column": null,
      "grid_gap": null,
      "grid_row": null,
      "grid_template_areas": null,
      "grid_template_columns": null,
      "grid_template_rows": null,
      "height": null,
      "justify_content": null,
      "justify_items": null,
      "left": null,
      "margin": null,
      "max_height": null,
      "max_width": null,
      "min_height": null,
      "min_width": null,
      "object_fit": null,
      "object_position": null,
      "order": null,
      "overflow": null,
      "overflow_x": null,
      "overflow_y": null,
      "padding": null,
      "right": null,
      "top": null,
      "visibility": null,
      "width": null
     }
    },
    "177f70338b6940d496706e54d9b272ce": {
     "model_module": "@jupyter-widgets/controls",
     "model_module_version": "1.5.0",
     "model_name": "DescriptionStyleModel",
     "state": {
      "_model_module": "@jupyter-widgets/controls",
      "_model_module_version": "1.5.0",
      "_model_name": "DescriptionStyleModel",
      "_view_count": null,
      "_view_module": "@jupyter-widgets/base",
      "_view_module_version": "1.2.0",
      "_view_name": "StyleView",
      "description_width": ""
     }
    },
    "1b62fea6dbf943cc9a59413e06b92cfc": {
     "model_module": "@jupyter-widgets/controls",
     "model_module_version": "1.5.0",
     "model_name": "FloatProgressModel",
     "state": {
      "_dom_classes": [],
      "_model_module": "@jupyter-widgets/controls",
      "_model_module_version": "1.5.0",
      "_model_name": "FloatProgressModel",
      "_view_count": null,
      "_view_module": "@jupyter-widgets/controls",
      "_view_module_version": "1.5.0",
      "_view_name": "ProgressView",
      "bar_style": "success",
      "description": "",
      "description_tooltip": null,
      "layout": "IPY_MODEL_f333be9ff70c44d9866e9fcd5ff7b5a8",
      "max": 173,
      "min": 0,
      "orientation": "horizontal",
      "style": "IPY_MODEL_627ca2d932c34a37b1463c30b9826466",
      "value": 173
     }
    },
    "1e5db6b5bb654bdc874f26fab515da72": {
     "model_module": "@jupyter-widgets/controls",
     "model_module_version": "1.5.0",
     "model_name": "FloatProgressModel",
     "state": {
      "_dom_classes": [],
      "_model_module": "@jupyter-widgets/controls",
      "_model_module_version": "1.5.0",
      "_model_name": "FloatProgressModel",
      "_view_count": null,
      "_view_module": "@jupyter-widgets/controls",
      "_view_module_version": "1.5.0",
      "_view_name": "ProgressView",
      "bar_style": "success",
      "description": "",
      "description_tooltip": null,
      "layout": "IPY_MODEL_914f1ac8978e4ed79f0d6d91d9e5cd97",
      "max": 248477,
      "min": 0,
      "orientation": "horizontal",
      "style": "IPY_MODEL_f36c69d454eb4bdebca203ac9820f06e",
      "value": 248477
     }
    },
    "23dd76adf5ef4a3292cbc6837179396e": {
     "model_module": "@jupyter-widgets/controls",
     "model_module_version": "1.5.0",
     "model_name": "HTMLModel",
     "state": {
      "_dom_classes": [],
      "_model_module": "@jupyter-widgets/controls",
      "_model_module_version": "1.5.0",
      "_model_name": "HTMLModel",
      "_view_count": null,
      "_view_module": "@jupyter-widgets/controls",
      "_view_module_version": "1.5.0",
      "_view_name": "HTMLView",
      "description": "",
      "description_tooltip": null,
      "layout": "IPY_MODEL_60821363041942af836c0c96f788f55c",
      "placeholder": "​",
      "style": "IPY_MODEL_177f70338b6940d496706e54d9b272ce",
      "value": "Downloading: 100%"
     }
    },
    "2de637b27a794f73807968a7d064129b": {
     "model_module": "@jupyter-widgets/controls",
     "model_module_version": "1.5.0",
     "model_name": "ProgressStyleModel",
     "state": {
      "_model_module": "@jupyter-widgets/controls",
      "_model_module_version": "1.5.0",
      "_model_name": "ProgressStyleModel",
      "_view_count": null,
      "_view_module": "@jupyter-widgets/base",
      "_view_module_version": "1.2.0",
      "_view_name": "StyleView",
      "bar_color": null,
      "description_width": ""
     }
    },
    "3da105dc54cc46ffaff42bd57c2a7a6a": {
     "model_module": "@jupyter-widgets/controls",
     "model_module_version": "1.5.0",
     "model_name": "HTMLModel",
     "state": {
      "_dom_classes": [],
      "_model_module": "@jupyter-widgets/controls",
      "_model_module_version": "1.5.0",
      "_model_name": "HTMLModel",
      "_view_count": null,
      "_view_module": "@jupyter-widgets/controls",
      "_view_module_version": "1.5.0",
      "_view_name": "HTMLView",
      "description": "",
      "description_tooltip": null,
      "layout": "IPY_MODEL_4ffee27294f14d9192ed1dad815274b7",
      "placeholder": "​",
      "style": "IPY_MODEL_937a9dc3dc8d428e84ce7a5b55f33672",
      "value": "Downloading: 100%"
     }
    },
    "497be53eda19433e83d424301ff14668": {
     "model_module": "@jupyter-widgets/controls",
     "model_module_version": "1.5.0",
     "model_name": "DescriptionStyleModel",
     "state": {
      "_model_module": "@jupyter-widgets/controls",
      "_model_module_version": "1.5.0",
      "_model_name": "DescriptionStyleModel",
      "_view_count": null,
      "_view_module": "@jupyter-widgets/base",
      "_view_module_version": "1.2.0",
      "_view_name": "StyleView",
      "description_width": ""
     }
    },
    "4c81c10f9140415cac6ea4ba0dc957d1": {
     "model_module": "@jupyter-widgets/base",
     "model_module_version": "1.2.0",
     "model_name": "LayoutModel",
     "state": {
      "_model_module": "@jupyter-widgets/base",
      "_model_module_version": "1.2.0",
      "_model_name": "LayoutModel",
      "_view_count": null,
      "_view_module": "@jupyter-widgets/base",
      "_view_module_version": "1.2.0",
      "_view_name": "LayoutView",
      "align_content": null,
      "align_items": null,
      "align_self": null,
      "border": null,
      "bottom": null,
      "display": null,
      "flex": null,
      "flex_flow": null,
      "grid_area": null,
      "grid_auto_columns": null,
      "grid_auto_flow": null,
      "grid_auto_rows": null,
      "grid_column": null,
      "grid_gap": null,
      "grid_row": null,
      "grid_template_areas": null,
      "grid_template_columns": null,
      "grid_template_rows": null,
      "height": null,
      "justify_content": null,
      "justify_items": null,
      "left": null,
      "margin": null,
      "max_height": null,
      "max_width": null,
      "min_height": null,
      "min_width": null,
      "object_fit": null,
      "object_position": null,
      "order": null,
      "overflow": null,
      "overflow_x": null,
      "overflow_y": null,
      "padding": null,
      "right": null,
      "top": null,
      "visibility": null,
      "width": null
     }
    },
    "4ca1eaa15bee4a6a86fc48be6fc04fcb": {
     "model_module": "@jupyter-widgets/controls",
     "model_module_version": "1.5.0",
     "model_name": "DescriptionStyleModel",
     "state": {
      "_model_module": "@jupyter-widgets/controls",
      "_model_module_version": "1.5.0",
      "_model_name": "DescriptionStyleModel",
      "_view_count": null,
      "_view_module": "@jupyter-widgets/base",
      "_view_module_version": "1.2.0",
      "_view_name": "StyleView",
      "description_width": ""
     }
    },
    "4d6c34771c534a09a52a9c79656738ed": {
     "model_module": "@jupyter-widgets/controls",
     "model_module_version": "1.5.0",
     "model_name": "DescriptionStyleModel",
     "state": {
      "_model_module": "@jupyter-widgets/controls",
      "_model_module_version": "1.5.0",
      "_model_name": "DescriptionStyleModel",
      "_view_count": null,
      "_view_module": "@jupyter-widgets/base",
      "_view_module_version": "1.2.0",
      "_view_name": "StyleView",
      "description_width": ""
     }
    },
    "4e79b42fa2664dc88160ba9146c7aa89": {
     "model_module": "@jupyter-widgets/controls",
     "model_module_version": "1.5.0",
     "model_name": "HTMLModel",
     "state": {
      "_dom_classes": [],
      "_model_module": "@jupyter-widgets/controls",
      "_model_module_version": "1.5.0",
      "_model_name": "HTMLModel",
      "_view_count": null,
      "_view_module": "@jupyter-widgets/controls",
      "_view_module_version": "1.5.0",
      "_view_name": "HTMLView",
      "description": "",
      "description_tooltip": null,
      "layout": "IPY_MODEL_fc2bbee0046f4694bd0b16fce89a82b1",
      "placeholder": "​",
      "style": "IPY_MODEL_e0ed423a0d4f4d59bcd2ea3f45efb30b",
      "value": " 752k/752k [00:00&lt;00:00, 884kB/s]"
     }
    },
    "4ffee27294f14d9192ed1dad815274b7": {
     "model_module": "@jupyter-widgets/base",
     "model_module_version": "1.2.0",
     "model_name": "LayoutModel",
     "state": {
      "_model_module": "@jupyter-widgets/base",
      "_model_module_version": "1.2.0",
      "_model_name": "LayoutModel",
      "_view_count": null,
      "_view_module": "@jupyter-widgets/base",
      "_view_module_version": "1.2.0",
      "_view_name": "LayoutView",
      "align_content": null,
      "align_items": null,
      "align_self": null,
      "border": null,
      "bottom": null,
      "display": null,
      "flex": null,
      "flex_flow": null,
      "grid_area": null,
      "grid_auto_columns": null,
      "grid_auto_flow": null,
      "grid_auto_rows": null,
      "grid_column": null,
      "grid_gap": null,
      "grid_row": null,
      "grid_template_areas": null,
      "grid_template_columns": null,
      "grid_template_rows": null,
      "height": null,
      "justify_content": null,
      "justify_items": null,
      "left": null,
      "margin": null,
      "max_height": null,
      "max_width": null,
      "min_height": null,
      "min_width": null,
      "object_fit": null,
      "object_position": null,
      "order": null,
      "overflow": null,
      "overflow_x": null,
      "overflow_y": null,
      "padding": null,
      "right": null,
      "top": null,
      "visibility": null,
      "width": null
     }
    },
    "5643c74e10e94c30976b4c26cece3b05": {
     "model_module": "@jupyter-widgets/base",
     "model_module_version": "1.2.0",
     "model_name": "LayoutModel",
     "state": {
      "_model_module": "@jupyter-widgets/base",
      "_model_module_version": "1.2.0",
      "_model_name": "LayoutModel",
      "_view_count": null,
      "_view_module": "@jupyter-widgets/base",
      "_view_module_version": "1.2.0",
      "_view_name": "LayoutView",
      "align_content": null,
      "align_items": null,
      "align_self": null,
      "border": null,
      "bottom": null,
      "display": null,
      "flex": null,
      "flex_flow": null,
      "grid_area": null,
      "grid_auto_columns": null,
      "grid_auto_flow": null,
      "grid_auto_rows": null,
      "grid_column": null,
      "grid_gap": null,
      "grid_row": null,
      "grid_template_areas": null,
      "grid_template_columns": null,
      "grid_template_rows": null,
      "height": null,
      "justify_content": null,
      "justify_items": null,
      "left": null,
      "margin": null,
      "max_height": null,
      "max_width": null,
      "min_height": null,
      "min_width": null,
      "object_fit": null,
      "object_position": null,
      "order": null,
      "overflow": null,
      "overflow_x": null,
      "overflow_y": null,
      "padding": null,
      "right": null,
      "top": null,
      "visibility": null,
      "width": null
     }
    },
    "5ea13bf798dc42d7a140b25a72b72cf6": {
     "model_module": "@jupyter-widgets/base",
     "model_module_version": "1.2.0",
     "model_name": "LayoutModel",
     "state": {
      "_model_module": "@jupyter-widgets/base",
      "_model_module_version": "1.2.0",
      "_model_name": "LayoutModel",
      "_view_count": null,
      "_view_module": "@jupyter-widgets/base",
      "_view_module_version": "1.2.0",
      "_view_name": "LayoutView",
      "align_content": null,
      "align_items": null,
      "align_self": null,
      "border": null,
      "bottom": null,
      "display": null,
      "flex": null,
      "flex_flow": null,
      "grid_area": null,
      "grid_auto_columns": null,
      "grid_auto_flow": null,
      "grid_auto_rows": null,
      "grid_column": null,
      "grid_gap": null,
      "grid_row": null,
      "grid_template_areas": null,
      "grid_template_columns": null,
      "grid_template_rows": null,
      "height": null,
      "justify_content": null,
      "justify_items": null,
      "left": null,
      "margin": null,
      "max_height": null,
      "max_width": null,
      "min_height": null,
      "min_width": null,
      "object_fit": null,
      "object_position": null,
      "order": null,
      "overflow": null,
      "overflow_x": null,
      "overflow_y": null,
      "padding": null,
      "right": null,
      "top": null,
      "visibility": null,
      "width": null
     }
    },
    "5f310b732bd44313ab8300013500f77d": {
     "model_module": "@jupyter-widgets/base",
     "model_module_version": "1.2.0",
     "model_name": "LayoutModel",
     "state": {
      "_model_module": "@jupyter-widgets/base",
      "_model_module_version": "1.2.0",
      "_model_name": "LayoutModel",
      "_view_count": null,
      "_view_module": "@jupyter-widgets/base",
      "_view_module_version": "1.2.0",
      "_view_name": "LayoutView",
      "align_content": null,
      "align_items": null,
      "align_self": null,
      "border": null,
      "bottom": null,
      "display": null,
      "flex": null,
      "flex_flow": null,
      "grid_area": null,
      "grid_auto_columns": null,
      "grid_auto_flow": null,
      "grid_auto_rows": null,
      "grid_column": null,
      "grid_gap": null,
      "grid_row": null,
      "grid_template_areas": null,
      "grid_template_columns": null,
      "grid_template_rows": null,
      "height": null,
      "justify_content": null,
      "justify_items": null,
      "left": null,
      "margin": null,
      "max_height": null,
      "max_width": null,
      "min_height": null,
      "min_width": null,
      "object_fit": null,
      "object_position": null,
      "order": null,
      "overflow": null,
      "overflow_x": null,
      "overflow_y": null,
      "padding": null,
      "right": null,
      "top": null,
      "visibility": null,
      "width": null
     }
    },
    "60821363041942af836c0c96f788f55c": {
     "model_module": "@jupyter-widgets/base",
     "model_module_version": "1.2.0",
     "model_name": "LayoutModel",
     "state": {
      "_model_module": "@jupyter-widgets/base",
      "_model_module_version": "1.2.0",
      "_model_name": "LayoutModel",
      "_view_count": null,
      "_view_module": "@jupyter-widgets/base",
      "_view_module_version": "1.2.0",
      "_view_name": "LayoutView",
      "align_content": null,
      "align_items": null,
      "align_self": null,
      "border": null,
      "bottom": null,
      "display": null,
      "flex": null,
      "flex_flow": null,
      "grid_area": null,
      "grid_auto_columns": null,
      "grid_auto_flow": null,
      "grid_auto_rows": null,
      "grid_column": null,
      "grid_gap": null,
      "grid_row": null,
      "grid_template_areas": null,
      "grid_template_columns": null,
      "grid_template_rows": null,
      "height": null,
      "justify_content": null,
      "justify_items": null,
      "left": null,
      "margin": null,
      "max_height": null,
      "max_width": null,
      "min_height": null,
      "min_width": null,
      "object_fit": null,
      "object_position": null,
      "order": null,
      "overflow": null,
      "overflow_x": null,
      "overflow_y": null,
      "padding": null,
      "right": null,
      "top": null,
      "visibility": null,
      "width": null
     }
    },
    "6265c1e344464d20b950642dd1cc94a2": {
     "model_module": "@jupyter-widgets/controls",
     "model_module_version": "1.5.0",
     "model_name": "DescriptionStyleModel",
     "state": {
      "_model_module": "@jupyter-widgets/controls",
      "_model_module_version": "1.5.0",
      "_model_name": "DescriptionStyleModel",
      "_view_count": null,
      "_view_module": "@jupyter-widgets/base",
      "_view_module_version": "1.2.0",
      "_view_name": "StyleView",
      "description_width": ""
     }
    },
    "627ca2d932c34a37b1463c30b9826466": {
     "model_module": "@jupyter-widgets/controls",
     "model_module_version": "1.5.0",
     "model_name": "ProgressStyleModel",
     "state": {
      "_model_module": "@jupyter-widgets/controls",
      "_model_module_version": "1.5.0",
      "_model_name": "ProgressStyleModel",
      "_view_count": null,
      "_view_module": "@jupyter-widgets/base",
      "_view_module_version": "1.2.0",
      "_view_name": "StyleView",
      "bar_color": null,
      "description_width": ""
     }
    },
    "674b4d92bf154fa2bd446a92a15fe127": {
     "model_module": "@jupyter-widgets/base",
     "model_module_version": "1.2.0",
     "model_name": "LayoutModel",
     "state": {
      "_model_module": "@jupyter-widgets/base",
      "_model_module_version": "1.2.0",
      "_model_name": "LayoutModel",
      "_view_count": null,
      "_view_module": "@jupyter-widgets/base",
      "_view_module_version": "1.2.0",
      "_view_name": "LayoutView",
      "align_content": null,
      "align_items": null,
      "align_self": null,
      "border": null,
      "bottom": null,
      "display": null,
      "flex": null,
      "flex_flow": null,
      "grid_area": null,
      "grid_auto_columns": null,
      "grid_auto_flow": null,
      "grid_auto_rows": null,
      "grid_column": null,
      "grid_gap": null,
      "grid_row": null,
      "grid_template_areas": null,
      "grid_template_columns": null,
      "grid_template_rows": null,
      "height": null,
      "justify_content": null,
      "justify_items": null,
      "left": null,
      "margin": null,
      "max_height": null,
      "max_width": null,
      "min_height": null,
      "min_width": null,
      "object_fit": null,
      "object_position": null,
      "order": null,
      "overflow": null,
      "overflow_x": null,
      "overflow_y": null,
      "padding": null,
      "right": null,
      "top": null,
      "visibility": null,
      "width": null
     }
    },
    "688d819eaa934cd3ab20f72aef0531d3": {
     "model_module": "@jupyter-widgets/controls",
     "model_module_version": "1.5.0",
     "model_name": "ProgressStyleModel",
     "state": {
      "_model_module": "@jupyter-widgets/controls",
      "_model_module_version": "1.5.0",
      "_model_name": "ProgressStyleModel",
      "_view_count": null,
      "_view_module": "@jupyter-widgets/base",
      "_view_module_version": "1.2.0",
      "_view_name": "StyleView",
      "bar_color": null,
      "description_width": ""
     }
    },
    "74c16425d41c494281b2336e57979213": {
     "model_module": "@jupyter-widgets/base",
     "model_module_version": "1.2.0",
     "model_name": "LayoutModel",
     "state": {
      "_model_module": "@jupyter-widgets/base",
      "_model_module_version": "1.2.0",
      "_model_name": "LayoutModel",
      "_view_count": null,
      "_view_module": "@jupyter-widgets/base",
      "_view_module_version": "1.2.0",
      "_view_name": "LayoutView",
      "align_content": null,
      "align_items": null,
      "align_self": null,
      "border": null,
      "bottom": null,
      "display": null,
      "flex": null,
      "flex_flow": null,
      "grid_area": null,
      "grid_auto_columns": null,
      "grid_auto_flow": null,
      "grid_auto_rows": null,
      "grid_column": null,
      "grid_gap": null,
      "grid_row": null,
      "grid_template_areas": null,
      "grid_template_columns": null,
      "grid_template_rows": null,
      "height": null,
      "justify_content": null,
      "justify_items": null,
      "left": null,
      "margin": null,
      "max_height": null,
      "max_width": null,
      "min_height": null,
      "min_width": null,
      "object_fit": null,
      "object_position": null,
      "order": null,
      "overflow": null,
      "overflow_x": null,
      "overflow_y": null,
      "padding": null,
      "right": null,
      "top": null,
      "visibility": null,
      "width": null
     }
    },
    "787a079044ec4c2089adf439cf0f93f3": {
     "model_module": "@jupyter-widgets/controls",
     "model_module_version": "1.5.0",
     "model_name": "FloatProgressModel",
     "state": {
      "_dom_classes": [],
      "_model_module": "@jupyter-widgets/controls",
      "_model_module_version": "1.5.0",
      "_model_name": "FloatProgressModel",
      "_view_count": null,
      "_view_module": "@jupyter-widgets/controls",
      "_view_module_version": "1.5.0",
      "_view_name": "ProgressView",
      "bar_style": "success",
      "description": "",
      "description_tooltip": null,
      "layout": "IPY_MODEL_c73860ffc7ad42e783189fbdcf60130b",
      "max": 546,
      "min": 0,
      "orientation": "horizontal",
      "style": "IPY_MODEL_688d819eaa934cd3ab20f72aef0531d3",
      "value": 546
     }
    },
    "842b888f24734136b5a77209878f3848": {
     "model_module": "@jupyter-widgets/controls",
     "model_module_version": "1.5.0",
     "model_name": "HBoxModel",
     "state": {
      "_dom_classes": [],
      "_model_module": "@jupyter-widgets/controls",
      "_model_module_version": "1.5.0",
      "_model_name": "HBoxModel",
      "_view_count": null,
      "_view_module": "@jupyter-widgets/controls",
      "_view_module_version": "1.5.0",
      "_view_name": "HBoxView",
      "box_style": "",
      "children": [
       "IPY_MODEL_23dd76adf5ef4a3292cbc6837179396e",
       "IPY_MODEL_1b62fea6dbf943cc9a59413e06b92cfc",
       "IPY_MODEL_b8561d54eedd465d9d348ca48a6489f6"
      ],
      "layout": "IPY_MODEL_5f310b732bd44313ab8300013500f77d"
     }
    },
    "912357ce1a49449fa5bc07ade4f84f33": {
     "model_module": "@jupyter-widgets/controls",
     "model_module_version": "1.5.0",
     "model_name": "DescriptionStyleModel",
     "state": {
      "_model_module": "@jupyter-widgets/controls",
      "_model_module_version": "1.5.0",
      "_model_name": "DescriptionStyleModel",
      "_view_count": null,
      "_view_module": "@jupyter-widgets/base",
      "_view_module_version": "1.2.0",
      "_view_name": "StyleView",
      "description_width": ""
     }
    },
    "914f1ac8978e4ed79f0d6d91d9e5cd97": {
     "model_module": "@jupyter-widgets/base",
     "model_module_version": "1.2.0",
     "model_name": "LayoutModel",
     "state": {
      "_model_module": "@jupyter-widgets/base",
      "_model_module_version": "1.2.0",
      "_model_name": "LayoutModel",
      "_view_count": null,
      "_view_module": "@jupyter-widgets/base",
      "_view_module_version": "1.2.0",
      "_view_name": "LayoutView",
      "align_content": null,
      "align_items": null,
      "align_self": null,
      "border": null,
      "bottom": null,
      "display": null,
      "flex": null,
      "flex_flow": null,
      "grid_area": null,
      "grid_auto_columns": null,
      "grid_auto_flow": null,
      "grid_auto_rows": null,
      "grid_column": null,
      "grid_gap": null,
      "grid_row": null,
      "grid_template_areas": null,
      "grid_template_columns": null,
      "grid_template_rows": null,
      "height": null,
      "justify_content": null,
      "justify_items": null,
      "left": null,
      "margin": null,
      "max_height": null,
      "max_width": null,
      "min_height": null,
      "min_width": null,
      "object_fit": null,
      "object_position": null,
      "order": null,
      "overflow": null,
      "overflow_x": null,
      "overflow_y": null,
      "padding": null,
      "right": null,
      "top": null,
      "visibility": null,
      "width": null
     }
    },
    "91db59f192a94d2ea2771d2e791f46ae": {
     "model_module": "@jupyter-widgets/controls",
     "model_module_version": "1.5.0",
     "model_name": "HBoxModel",
     "state": {
      "_dom_classes": [],
      "_model_module": "@jupyter-widgets/controls",
      "_model_module_version": "1.5.0",
      "_model_name": "HBoxModel",
      "_view_count": null,
      "_view_module": "@jupyter-widgets/controls",
      "_view_module_version": "1.5.0",
      "_view_name": "HBoxView",
      "box_style": "",
      "children": [
       "IPY_MODEL_fa095c0f09754b13bbf298c9f0d301db",
       "IPY_MODEL_ae9c6f45378845a79a0ee90b3e56d0d3",
       "IPY_MODEL_4e79b42fa2664dc88160ba9146c7aa89"
      ],
      "layout": "IPY_MODEL_cc8edf6945714104bb28e35b2a519751"
     }
    },
    "937a9dc3dc8d428e84ce7a5b55f33672": {
     "model_module": "@jupyter-widgets/controls",
     "model_module_version": "1.5.0",
     "model_name": "DescriptionStyleModel",
     "state": {
      "_model_module": "@jupyter-widgets/controls",
      "_model_module_version": "1.5.0",
      "_model_name": "DescriptionStyleModel",
      "_view_count": null,
      "_view_module": "@jupyter-widgets/base",
      "_view_module_version": "1.2.0",
      "_view_name": "StyleView",
      "description_width": ""
     }
    },
    "96e458e7c84f4969a3261c2d101a5982": {
     "model_module": "@jupyter-widgets/controls",
     "model_module_version": "1.5.0",
     "model_name": "HTMLModel",
     "state": {
      "_dom_classes": [],
      "_model_module": "@jupyter-widgets/controls",
      "_model_module_version": "1.5.0",
      "_model_name": "HTMLModel",
      "_view_count": null,
      "_view_module": "@jupyter-widgets/controls",
      "_view_module_version": "1.5.0",
      "_view_name": "HTMLView",
      "description": "",
      "description_tooltip": null,
      "layout": "IPY_MODEL_9df5e79794c1405d9414865e6b80df80",
      "placeholder": "​",
      "style": "IPY_MODEL_4d6c34771c534a09a52a9c79656738ed",
      "value": " 375/375 [00:00&lt;00:00, 11.0kB/s]"
     }
    },
    "991c5486093e47d3ae17540bfbcb79da": {
     "model_module": "@jupyter-widgets/base",
     "model_module_version": "1.2.0",
     "model_name": "LayoutModel",
     "state": {
      "_model_module": "@jupyter-widgets/base",
      "_model_module_version": "1.2.0",
      "_model_name": "LayoutModel",
      "_view_count": null,
      "_view_module": "@jupyter-widgets/base",
      "_view_module_version": "1.2.0",
      "_view_name": "LayoutView",
      "align_content": null,
      "align_items": null,
      "align_self": null,
      "border": null,
      "bottom": null,
      "display": null,
      "flex": null,
      "flex_flow": null,
      "grid_area": null,
      "grid_auto_columns": null,
      "grid_auto_flow": null,
      "grid_auto_rows": null,
      "grid_column": null,
      "grid_gap": null,
      "grid_row": null,
      "grid_template_areas": null,
      "grid_template_columns": null,
      "grid_template_rows": null,
      "height": null,
      "justify_content": null,
      "justify_items": null,
      "left": null,
      "margin": null,
      "max_height": null,
      "max_width": null,
      "min_height": null,
      "min_width": null,
      "object_fit": null,
      "object_position": null,
      "order": null,
      "overflow": null,
      "overflow_x": null,
      "overflow_y": null,
      "padding": null,
      "right": null,
      "top": null,
      "visibility": null,
      "width": null
     }
    },
    "9df5e79794c1405d9414865e6b80df80": {
     "model_module": "@jupyter-widgets/base",
     "model_module_version": "1.2.0",
     "model_name": "LayoutModel",
     "state": {
      "_model_module": "@jupyter-widgets/base",
      "_model_module_version": "1.2.0",
      "_model_name": "LayoutModel",
      "_view_count": null,
      "_view_module": "@jupyter-widgets/base",
      "_view_module_version": "1.2.0",
      "_view_name": "LayoutView",
      "align_content": null,
      "align_items": null,
      "align_self": null,
      "border": null,
      "bottom": null,
      "display": null,
      "flex": null,
      "flex_flow": null,
      "grid_area": null,
      "grid_auto_columns": null,
      "grid_auto_flow": null,
      "grid_auto_rows": null,
      "grid_column": null,
      "grid_gap": null,
      "grid_row": null,
      "grid_template_areas": null,
      "grid_template_columns": null,
      "grid_template_rows": null,
      "height": null,
      "justify_content": null,
      "justify_items": null,
      "left": null,
      "margin": null,
      "max_height": null,
      "max_width": null,
      "min_height": null,
      "min_width": null,
      "object_fit": null,
      "object_position": null,
      "order": null,
      "overflow": null,
      "overflow_x": null,
      "overflow_y": null,
      "padding": null,
      "right": null,
      "top": null,
      "visibility": null,
      "width": null
     }
    },
    "ad233e024fd1404b91fe3351c44b48a3": {
     "model_module": "@jupyter-widgets/controls",
     "model_module_version": "1.5.0",
     "model_name": "ProgressStyleModel",
     "state": {
      "_model_module": "@jupyter-widgets/controls",
      "_model_module_version": "1.5.0",
      "_model_name": "ProgressStyleModel",
      "_view_count": null,
      "_view_module": "@jupyter-widgets/base",
      "_view_module_version": "1.2.0",
      "_view_name": "StyleView",
      "bar_color": null,
      "description_width": ""
     }
    },
    "ad9eafd28dc34d5cad4a3138cb016503": {
     "model_module": "@jupyter-widgets/controls",
     "model_module_version": "1.5.0",
     "model_name": "HTMLModel",
     "state": {
      "_dom_classes": [],
      "_model_module": "@jupyter-widgets/controls",
      "_model_module_version": "1.5.0",
      "_model_name": "HTMLModel",
      "_view_count": null,
      "_view_module": "@jupyter-widgets/controls",
      "_view_module_version": "1.5.0",
      "_view_name": "HTMLView",
      "description": "",
      "description_tooltip": null,
      "layout": "IPY_MODEL_131d97eedc494b0789a91ce136e077c2",
      "placeholder": "​",
      "style": "IPY_MODEL_edf422edbab243988e5efcef4b961ced",
      "value": " 248k/248k [00:00&lt;00:00, 848kB/s]"
     }
    },
    "ae9c6f45378845a79a0ee90b3e56d0d3": {
     "model_module": "@jupyter-widgets/controls",
     "model_module_version": "1.5.0",
     "model_name": "FloatProgressModel",
     "state": {
      "_dom_classes": [],
      "_model_module": "@jupyter-widgets/controls",
      "_model_module_version": "1.5.0",
      "_model_name": "FloatProgressModel",
      "_view_count": null,
      "_view_module": "@jupyter-widgets/controls",
      "_view_module_version": "1.5.0",
      "_view_name": "ProgressView",
      "bar_style": "success",
      "description": "",
      "description_tooltip": null,
      "layout": "IPY_MODEL_991c5486093e47d3ae17540bfbcb79da",
      "max": 751504,
      "min": 0,
      "orientation": "horizontal",
      "style": "IPY_MODEL_ad233e024fd1404b91fe3351c44b48a3",
      "value": 751504
     }
    },
    "aece92e9e5da4cb9a2ae3ab45cc0429a": {
     "model_module": "@jupyter-widgets/controls",
     "model_module_version": "1.5.0",
     "model_name": "HTMLModel",
     "state": {
      "_dom_classes": [],
      "_model_module": "@jupyter-widgets/controls",
      "_model_module_version": "1.5.0",
      "_model_name": "HTMLModel",
      "_view_count": null,
      "_view_module": "@jupyter-widgets/controls",
      "_view_module_version": "1.5.0",
      "_view_name": "HTMLView",
      "description": "",
      "description_tooltip": null,
      "layout": "IPY_MODEL_74c16425d41c494281b2336e57979213",
      "placeholder": "​",
      "style": "IPY_MODEL_912357ce1a49449fa5bc07ade4f84f33",
      "value": "Downloading: 100%"
     }
    },
    "b4844007bcc74eb5b13e54297d5e6ad5": {
     "model_module": "@jupyter-widgets/base",
     "model_module_version": "1.2.0",
     "model_name": "LayoutModel",
     "state": {
      "_model_module": "@jupyter-widgets/base",
      "_model_module_version": "1.2.0",
      "_model_name": "LayoutModel",
      "_view_count": null,
      "_view_module": "@jupyter-widgets/base",
      "_view_module_version": "1.2.0",
      "_view_name": "LayoutView",
      "align_content": null,
      "align_items": null,
      "align_self": null,
      "border": null,
      "bottom": null,
      "display": null,
      "flex": null,
      "flex_flow": null,
      "grid_area": null,
      "grid_auto_columns": null,
      "grid_auto_flow": null,
      "grid_auto_rows": null,
      "grid_column": null,
      "grid_gap": null,
      "grid_row": null,
      "grid_template_areas": null,
      "grid_template_columns": null,
      "grid_template_rows": null,
      "height": null,
      "justify_content": null,
      "justify_items": null,
      "left": null,
      "margin": null,
      "max_height": null,
      "max_width": null,
      "min_height": null,
      "min_width": null,
      "object_fit": null,
      "object_position": null,
      "order": null,
      "overflow": null,
      "overflow_x": null,
      "overflow_y": null,
      "padding": null,
      "right": null,
      "top": null,
      "visibility": null,
      "width": null
     }
    },
    "b8561d54eedd465d9d348ca48a6489f6": {
     "model_module": "@jupyter-widgets/controls",
     "model_module_version": "1.5.0",
     "model_name": "HTMLModel",
     "state": {
      "_dom_classes": [],
      "_model_module": "@jupyter-widgets/controls",
      "_model_module_version": "1.5.0",
      "_model_name": "HTMLModel",
      "_view_count": null,
      "_view_module": "@jupyter-widgets/controls",
      "_view_module_version": "1.5.0",
      "_view_name": "HTMLView",
      "description": "",
      "description_tooltip": null,
      "layout": "IPY_MODEL_12681b85378544f89efa4e8dc84cc511",
      "placeholder": "​",
      "style": "IPY_MODEL_0b18655094844c7cabee146242070491",
      "value": " 173/173 [00:00&lt;00:00, 5.02kB/s]"
     }
    },
    "bdc504a9f2a54c0fb3a70f21a7037966": {
     "model_module": "@jupyter-widgets/base",
     "model_module_version": "1.2.0",
     "model_name": "LayoutModel",
     "state": {
      "_model_module": "@jupyter-widgets/base",
      "_model_module_version": "1.2.0",
      "_model_name": "LayoutModel",
      "_view_count": null,
      "_view_module": "@jupyter-widgets/base",
      "_view_module_version": "1.2.0",
      "_view_name": "LayoutView",
      "align_content": null,
      "align_items": null,
      "align_self": null,
      "border": null,
      "bottom": null,
      "display": null,
      "flex": null,
      "flex_flow": null,
      "grid_area": null,
      "grid_auto_columns": null,
      "grid_auto_flow": null,
      "grid_auto_rows": null,
      "grid_column": null,
      "grid_gap": null,
      "grid_row": null,
      "grid_template_areas": null,
      "grid_template_columns": null,
      "grid_template_rows": null,
      "height": null,
      "justify_content": null,
      "justify_items": null,
      "left": null,
      "margin": null,
      "max_height": null,
      "max_width": null,
      "min_height": null,
      "min_width": null,
      "object_fit": null,
      "object_position": null,
      "order": null,
      "overflow": null,
      "overflow_x": null,
      "overflow_y": null,
      "padding": null,
      "right": null,
      "top": null,
      "visibility": null,
      "width": null
     }
    },
    "c73860ffc7ad42e783189fbdcf60130b": {
     "model_module": "@jupyter-widgets/base",
     "model_module_version": "1.2.0",
     "model_name": "LayoutModel",
     "state": {
      "_model_module": "@jupyter-widgets/base",
      "_model_module_version": "1.2.0",
      "_model_name": "LayoutModel",
      "_view_count": null,
      "_view_module": "@jupyter-widgets/base",
      "_view_module_version": "1.2.0",
      "_view_name": "LayoutView",
      "align_content": null,
      "align_items": null,
      "align_self": null,
      "border": null,
      "bottom": null,
      "display": null,
      "flex": null,
      "flex_flow": null,
      "grid_area": null,
      "grid_auto_columns": null,
      "grid_auto_flow": null,
      "grid_auto_rows": null,
      "grid_column": null,
      "grid_gap": null,
      "grid_row": null,
      "grid_template_areas": null,
      "grid_template_columns": null,
      "grid_template_rows": null,
      "height": null,
      "justify_content": null,
      "justify_items": null,
      "left": null,
      "margin": null,
      "max_height": null,
      "max_width": null,
      "min_height": null,
      "min_width": null,
      "object_fit": null,
      "object_position": null,
      "order": null,
      "overflow": null,
      "overflow_x": null,
      "overflow_y": null,
      "padding": null,
      "right": null,
      "top": null,
      "visibility": null,
      "width": null
     }
    },
    "c8121161308347d3a53590e91ebc3a70": {
     "model_module": "@jupyter-widgets/controls",
     "model_module_version": "1.5.0",
     "model_name": "FloatProgressModel",
     "state": {
      "_dom_classes": [],
      "_model_module": "@jupyter-widgets/controls",
      "_model_module_version": "1.5.0",
      "_model_name": "FloatProgressModel",
      "_view_count": null,
      "_view_module": "@jupyter-widgets/controls",
      "_view_module_version": "1.5.0",
      "_view_name": "ProgressView",
      "bar_style": "success",
      "description": "",
      "description_tooltip": null,
      "layout": "IPY_MODEL_5ea13bf798dc42d7a140b25a72b72cf6",
      "max": 375,
      "min": 0,
      "orientation": "horizontal",
      "style": "IPY_MODEL_2de637b27a794f73807968a7d064129b",
      "value": 375
     }
    },
    "cc8edf6945714104bb28e35b2a519751": {
     "model_module": "@jupyter-widgets/base",
     "model_module_version": "1.2.0",
     "model_name": "LayoutModel",
     "state": {
      "_model_module": "@jupyter-widgets/base",
      "_model_module_version": "1.2.0",
      "_model_name": "LayoutModel",
      "_view_count": null,
      "_view_module": "@jupyter-widgets/base",
      "_view_module_version": "1.2.0",
      "_view_name": "LayoutView",
      "align_content": null,
      "align_items": null,
      "align_self": null,
      "border": null,
      "bottom": null,
      "display": null,
      "flex": null,
      "flex_flow": null,
      "grid_area": null,
      "grid_auto_columns": null,
      "grid_auto_flow": null,
      "grid_auto_rows": null,
      "grid_column": null,
      "grid_gap": null,
      "grid_row": null,
      "grid_template_areas": null,
      "grid_template_columns": null,
      "grid_template_rows": null,
      "height": null,
      "justify_content": null,
      "justify_items": null,
      "left": null,
      "margin": null,
      "max_height": null,
      "max_width": null,
      "min_height": null,
      "min_width": null,
      "object_fit": null,
      "object_position": null,
      "order": null,
      "overflow": null,
      "overflow_x": null,
      "overflow_y": null,
      "padding": null,
      "right": null,
      "top": null,
      "visibility": null,
      "width": null
     }
    },
    "e0ed423a0d4f4d59bcd2ea3f45efb30b": {
     "model_module": "@jupyter-widgets/controls",
     "model_module_version": "1.5.0",
     "model_name": "DescriptionStyleModel",
     "state": {
      "_model_module": "@jupyter-widgets/controls",
      "_model_module_version": "1.5.0",
      "_model_name": "DescriptionStyleModel",
      "_view_count": null,
      "_view_module": "@jupyter-widgets/base",
      "_view_module_version": "1.2.0",
      "_view_name": "StyleView",
      "description_width": ""
     }
    },
    "e1ed3939dfa642308a7ea7c4cff21b42": {
     "model_module": "@jupyter-widgets/controls",
     "model_module_version": "1.5.0",
     "model_name": "HBoxModel",
     "state": {
      "_dom_classes": [],
      "_model_module": "@jupyter-widgets/controls",
      "_model_module_version": "1.5.0",
      "_model_name": "HBoxModel",
      "_view_count": null,
      "_view_module": "@jupyter-widgets/controls",
      "_view_module_version": "1.5.0",
      "_view_name": "HBoxView",
      "box_style": "",
      "children": [
       "IPY_MODEL_aece92e9e5da4cb9a2ae3ab45cc0429a",
       "IPY_MODEL_787a079044ec4c2089adf439cf0f93f3",
       "IPY_MODEL_e961ad843a4a42ccbcc8de743615a9df"
      ],
      "layout": "IPY_MODEL_674b4d92bf154fa2bd446a92a15fe127"
     }
    },
    "e3488f7ce49e49d8a4eec6837391c879": {
     "model_module": "@jupyter-widgets/base",
     "model_module_version": "1.2.0",
     "model_name": "LayoutModel",
     "state": {
      "_model_module": "@jupyter-widgets/base",
      "_model_module_version": "1.2.0",
      "_model_name": "LayoutModel",
      "_view_count": null,
      "_view_module": "@jupyter-widgets/base",
      "_view_module_version": "1.2.0",
      "_view_name": "LayoutView",
      "align_content": null,
      "align_items": null,
      "align_self": null,
      "border": null,
      "bottom": null,
      "display": null,
      "flex": null,
      "flex_flow": null,
      "grid_area": null,
      "grid_auto_columns": null,
      "grid_auto_flow": null,
      "grid_auto_rows": null,
      "grid_column": null,
      "grid_gap": null,
      "grid_row": null,
      "grid_template_areas": null,
      "grid_template_columns": null,
      "grid_template_rows": null,
      "height": null,
      "justify_content": null,
      "justify_items": null,
      "left": null,
      "margin": null,
      "max_height": null,
      "max_width": null,
      "min_height": null,
      "min_width": null,
      "object_fit": null,
      "object_position": null,
      "order": null,
      "overflow": null,
      "overflow_x": null,
      "overflow_y": null,
      "padding": null,
      "right": null,
      "top": null,
      "visibility": null,
      "width": null
     }
    },
    "e961ad843a4a42ccbcc8de743615a9df": {
     "model_module": "@jupyter-widgets/controls",
     "model_module_version": "1.5.0",
     "model_name": "HTMLModel",
     "state": {
      "_dom_classes": [],
      "_model_module": "@jupyter-widgets/controls",
      "_model_module_version": "1.5.0",
      "_model_name": "HTMLModel",
      "_view_count": null,
      "_view_module": "@jupyter-widgets/controls",
      "_view_module_version": "1.5.0",
      "_view_name": "HTMLView",
      "description": "",
      "description_tooltip": null,
      "layout": "IPY_MODEL_4c81c10f9140415cac6ea4ba0dc957d1",
      "placeholder": "​",
      "style": "IPY_MODEL_497be53eda19433e83d424301ff14668",
      "value": " 546/546 [00:00&lt;00:00, 14.2kB/s]"
     }
    },
    "edf422edbab243988e5efcef4b961ced": {
     "model_module": "@jupyter-widgets/controls",
     "model_module_version": "1.5.0",
     "model_name": "DescriptionStyleModel",
     "state": {
      "_model_module": "@jupyter-widgets/controls",
      "_model_module_version": "1.5.0",
      "_model_name": "DescriptionStyleModel",
      "_view_count": null,
      "_view_module": "@jupyter-widgets/base",
      "_view_module_version": "1.2.0",
      "_view_name": "StyleView",
      "description_width": ""
     }
    },
    "f333be9ff70c44d9866e9fcd5ff7b5a8": {
     "model_module": "@jupyter-widgets/base",
     "model_module_version": "1.2.0",
     "model_name": "LayoutModel",
     "state": {
      "_model_module": "@jupyter-widgets/base",
      "_model_module_version": "1.2.0",
      "_model_name": "LayoutModel",
      "_view_count": null,
      "_view_module": "@jupyter-widgets/base",
      "_view_module_version": "1.2.0",
      "_view_name": "LayoutView",
      "align_content": null,
      "align_items": null,
      "align_self": null,
      "border": null,
      "bottom": null,
      "display": null,
      "flex": null,
      "flex_flow": null,
      "grid_area": null,
      "grid_auto_columns": null,
      "grid_auto_flow": null,
      "grid_auto_rows": null,
      "grid_column": null,
      "grid_gap": null,
      "grid_row": null,
      "grid_template_areas": null,
      "grid_template_columns": null,
      "grid_template_rows": null,
      "height": null,
      "justify_content": null,
      "justify_items": null,
      "left": null,
      "margin": null,
      "max_height": null,
      "max_width": null,
      "min_height": null,
      "min_width": null,
      "object_fit": null,
      "object_position": null,
      "order": null,
      "overflow": null,
      "overflow_x": null,
      "overflow_y": null,
      "padding": null,
      "right": null,
      "top": null,
      "visibility": null,
      "width": null
     }
    },
    "f36c69d454eb4bdebca203ac9820f06e": {
     "model_module": "@jupyter-widgets/controls",
     "model_module_version": "1.5.0",
     "model_name": "ProgressStyleModel",
     "state": {
      "_model_module": "@jupyter-widgets/controls",
      "_model_module_version": "1.5.0",
      "_model_name": "ProgressStyleModel",
      "_view_count": null,
      "_view_module": "@jupyter-widgets/base",
      "_view_module_version": "1.2.0",
      "_view_name": "StyleView",
      "bar_color": null,
      "description_width": ""
     }
    },
    "f5bd7d6b514846c389cf3796998f3741": {
     "model_module": "@jupyter-widgets/controls",
     "model_module_version": "1.5.0",
     "model_name": "HBoxModel",
     "state": {
      "_dom_classes": [],
      "_model_module": "@jupyter-widgets/controls",
      "_model_module_version": "1.5.0",
      "_model_name": "HBoxModel",
      "_view_count": null,
      "_view_module": "@jupyter-widgets/controls",
      "_view_module_version": "1.5.0",
      "_view_name": "HBoxView",
      "box_style": "",
      "children": [
       "IPY_MODEL_09066d2db31b409ca0086f746f6e9b95",
       "IPY_MODEL_1e5db6b5bb654bdc874f26fab515da72",
       "IPY_MODEL_ad9eafd28dc34d5cad4a3138cb016503"
      ],
      "layout": "IPY_MODEL_e3488f7ce49e49d8a4eec6837391c879"
     }
    },
    "fa095c0f09754b13bbf298c9f0d301db": {
     "model_module": "@jupyter-widgets/controls",
     "model_module_version": "1.5.0",
     "model_name": "HTMLModel",
     "state": {
      "_dom_classes": [],
      "_model_module": "@jupyter-widgets/controls",
      "_model_module_version": "1.5.0",
      "_model_name": "HTMLModel",
      "_view_count": null,
      "_view_module": "@jupyter-widgets/controls",
      "_view_module_version": "1.5.0",
      "_view_name": "HTMLView",
      "description": "",
      "description_tooltip": null,
      "layout": "IPY_MODEL_bdc504a9f2a54c0fb3a70f21a7037966",
      "placeholder": "​",
      "style": "IPY_MODEL_6265c1e344464d20b950642dd1cc94a2",
      "value": "Downloading: 100%"
     }
    },
    "fc2bbee0046f4694bd0b16fce89a82b1": {
     "model_module": "@jupyter-widgets/base",
     "model_module_version": "1.2.0",
     "model_name": "LayoutModel",
     "state": {
      "_model_module": "@jupyter-widgets/base",
      "_model_module_version": "1.2.0",
      "_model_name": "LayoutModel",
      "_view_count": null,
      "_view_module": "@jupyter-widgets/base",
      "_view_module_version": "1.2.0",
      "_view_name": "LayoutView",
      "align_content": null,
      "align_items": null,
      "align_self": null,
      "border": null,
      "bottom": null,
      "display": null,
      "flex": null,
      "flex_flow": null,
      "grid_area": null,
      "grid_auto_columns": null,
      "grid_auto_flow": null,
      "grid_auto_rows": null,
      "grid_column": null,
      "grid_gap": null,
      "grid_row": null,
      "grid_template_areas": null,
      "grid_template_columns": null,
      "grid_template_rows": null,
      "height": null,
      "justify_content": null,
      "justify_items": null,
      "left": null,
      "margin": null,
      "max_height": null,
      "max_width": null,
      "min_height": null,
      "min_width": null,
      "object_fit": null,
      "object_position": null,
      "order": null,
      "overflow": null,
      "overflow_x": null,
      "overflow_y": null,
      "padding": null,
      "right": null,
      "top": null,
      "visibility": null,
      "width": null
     }
    },
    "fdba972428cd4678b01811ed6909b4b0": {
     "model_module": "@jupyter-widgets/controls",
     "model_module_version": "1.5.0",
     "model_name": "HBoxModel",
     "state": {
      "_dom_classes": [],
      "_model_module": "@jupyter-widgets/controls",
      "_model_module_version": "1.5.0",
      "_model_name": "HBoxModel",
      "_view_count": null,
      "_view_module": "@jupyter-widgets/controls",
      "_view_module_version": "1.5.0",
      "_view_name": "HBoxView",
      "box_style": "",
      "children": [
       "IPY_MODEL_3da105dc54cc46ffaff42bd57c2a7a6a",
       "IPY_MODEL_c8121161308347d3a53590e91ebc3a70",
       "IPY_MODEL_96e458e7c84f4969a3261c2d101a5982"
      ],
      "layout": "IPY_MODEL_5643c74e10e94c30976b4c26cece3b05"
     }
    }
   }
  }
 },
 "nbformat": 4,
 "nbformat_minor": 1
}
